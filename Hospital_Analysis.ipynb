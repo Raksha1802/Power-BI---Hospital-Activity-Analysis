{
  "nbformat": 4,
  "nbformat_minor": 0,
  "metadata": {
    "colab": {
      "name": "Hospital_Analysis.ipynb",
      "provenance": [],
      "collapsed_sections": []
    },
    "kernelspec": {
      "name": "python3",
      "display_name": "Python 3"
    }
  },
  "cells": [
    {
      "cell_type": "code",
      "metadata": {
        "id": "PKCst6RD_LD3",
        "colab": {
          "base_uri": "https://localhost:8080/",
          "height": 142
        },
        "outputId": "b581d7f4-5ceb-4122-973c-b801729911bd"
      },
      "source": [
        "import pandas as pd\r\n",
        "import numpy as np\r\n",
        "import seaborn as sns\r\n",
        "%matplotlib inline\r\n",
        "import matplotlib.pyplot as plt\r\n",
        "import warnings\r\n",
        "warnings.filterwarnings(\"ignore\")\r\n",
        "\r\n",
        "df = pd.read_csv('BI.csv')\r\n",
        "df.head(3)"
      ],
      "execution_count": null,
      "outputs": [
        {
          "output_type": "execute_result",
          "data": {
            "text/html": [
              "<div>\n",
              "<style scoped>\n",
              "    .dataframe tbody tr th:only-of-type {\n",
              "        vertical-align: middle;\n",
              "    }\n",
              "\n",
              "    .dataframe tbody tr th {\n",
              "        vertical-align: top;\n",
              "    }\n",
              "\n",
              "    .dataframe thead th {\n",
              "        text-align: right;\n",
              "    }\n",
              "</style>\n",
              "<table border=\"1\" class=\"dataframe\">\n",
              "  <thead>\n",
              "    <tr style=\"text-align: right;\">\n",
              "      <th></th>\n",
              "      <th>Patient ID</th>\n",
              "      <th>Age</th>\n",
              "      <th>Specialty</th>\n",
              "      <th>Directorate</th>\n",
              "      <th>Doctor</th>\n",
              "      <th>Admission date and time</th>\n",
              "      <th>Discharge Date and Time</th>\n",
              "      <th>Ward</th>\n",
              "      <th>Admission Type</th>\n",
              "      <th>Admission Category</th>\n",
              "      <th>Admission Source</th>\n",
              "    </tr>\n",
              "  </thead>\n",
              "  <tbody>\n",
              "    <tr>\n",
              "      <th>0</th>\n",
              "      <td>1</td>\n",
              "      <td>76</td>\n",
              "      <td>Adult Stroke</td>\n",
              "      <td>Medical</td>\n",
              "      <td>Fiona O'Donnell</td>\n",
              "      <td>05-12-2012 01:31</td>\n",
              "      <td>01-01-2013 00:21</td>\n",
              "      <td>Acute  Stroke Unit</td>\n",
              "      <td>A/E</td>\n",
              "      <td>Private Patient</td>\n",
              "      <td>ED</td>\n",
              "    </tr>\n",
              "    <tr>\n",
              "      <th>1</th>\n",
              "      <td>2</td>\n",
              "      <td>41</td>\n",
              "      <td>Adult Urology</td>\n",
              "      <td>Surgical</td>\n",
              "      <td>Damian Hinds</td>\n",
              "      <td>31-12-2012 17:01</td>\n",
              "      <td>01-01-2013 09:17</td>\n",
              "      <td>Lane</td>\n",
              "      <td>A/E</td>\n",
              "      <td>Public Patient</td>\n",
              "      <td>ED</td>\n",
              "    </tr>\n",
              "    <tr>\n",
              "      <th>2</th>\n",
              "      <td>3</td>\n",
              "      <td>46</td>\n",
              "      <td>Adult Cardiology</td>\n",
              "      <td>Medical</td>\n",
              "      <td>Frank Field</td>\n",
              "      <td>31-12-2012 14:29</td>\n",
              "      <td>01-01-2013 12:00</td>\n",
              "      <td>CCU</td>\n",
              "      <td>A/E</td>\n",
              "      <td>Private Patient</td>\n",
              "      <td>Emergency OPD Admission</td>\n",
              "    </tr>\n",
              "  </tbody>\n",
              "</table>\n",
              "</div>"
            ],
            "text/plain": [
              "   Patient ID  Age  ... Admission Category         Admission Source\n",
              "0           1   76  ...    Private Patient                       ED\n",
              "1           2   41  ...     Public Patient                       ED\n",
              "2           3   46  ...    Private Patient  Emergency OPD Admission\n",
              "\n",
              "[3 rows x 11 columns]"
            ]
          },
          "metadata": {
            "tags": []
          },
          "execution_count": 2
        }
      ]
    },
    {
      "cell_type": "code",
      "metadata": {
        "colab": {
          "base_uri": "https://localhost:8080/"
        },
        "id": "dVQycvhseed_",
        "outputId": "3be04ddd-8cc6-4896-a3b6-70cc5cfc587a"
      },
      "source": [
        "# missing data check\r\n",
        "df.isna().sum()"
      ],
      "execution_count": null,
      "outputs": [
        {
          "output_type": "execute_result",
          "data": {
            "text/plain": [
              "Patient ID                 0\n",
              "Age                        0\n",
              "Specialty                  0\n",
              "Directorate                0\n",
              "Doctor                     0\n",
              "Admission date and time    0\n",
              "Discharge Date and Time    0\n",
              "Ward                       0\n",
              "Admission Type             0\n",
              "Admission Category         0\n",
              "Admission Source           0\n",
              "dtype: int64"
            ]
          },
          "metadata": {
            "tags": []
          },
          "execution_count": 3
        }
      ]
    },
    {
      "cell_type": "code",
      "metadata": {
        "colab": {
          "base_uri": "https://localhost:8080/"
        },
        "id": "ktk7bXasfcI4",
        "outputId": "ccee5add-1388-46d8-dde0-df077efa9c28"
      },
      "source": [
        "df.info()"
      ],
      "execution_count": null,
      "outputs": [
        {
          "output_type": "stream",
          "text": [
            "<class 'pandas.core.frame.DataFrame'>\n",
            "RangeIndex: 12411 entries, 0 to 12410\n",
            "Data columns (total 11 columns):\n",
            " #   Column                   Non-Null Count  Dtype \n",
            "---  ------                   --------------  ----- \n",
            " 0   Patient ID               12411 non-null  int64 \n",
            " 1   Age                      12411 non-null  int64 \n",
            " 2   Specialty                12411 non-null  object\n",
            " 3   Directorate              12411 non-null  object\n",
            " 4   Doctor                   12411 non-null  object\n",
            " 5   Admission date and time  12411 non-null  object\n",
            " 6   Discharge Date and Time  12411 non-null  object\n",
            " 7   Ward                     12411 non-null  object\n",
            " 8   Admission Type           12411 non-null  object\n",
            " 9   Admission Category       12411 non-null  object\n",
            " 10  Admission Source         12411 non-null  object\n",
            "dtypes: int64(2), object(9)\n",
            "memory usage: 1.0+ MB\n"
          ],
          "name": "stdout"
        }
      ]
    },
    {
      "cell_type": "code",
      "metadata": {
        "colab": {
          "base_uri": "https://localhost:8080/"
        },
        "id": "UFcSh-FdekoV",
        "outputId": "e9082725-bbc5-42b1-e6ab-4b9e11f01b02"
      },
      "source": [
        "df.columns"
      ],
      "execution_count": null,
      "outputs": [
        {
          "output_type": "execute_result",
          "data": {
            "text/plain": [
              "Index(['Patient ID', 'Age', 'Specialty', 'Directorate', 'Doctor',\n",
              "       'Admission date and time', 'Discharge Date and Time', 'Ward',\n",
              "       'Admission Type', 'Admission Category', 'Admission Source'],\n",
              "      dtype='object')"
            ]
          },
          "metadata": {
            "tags": []
          },
          "execution_count": 5
        }
      ]
    },
    {
      "cell_type": "code",
      "metadata": {
        "id": "-3asinyIhwWf"
      },
      "source": [
        "from datetime import datetime"
      ],
      "execution_count": null,
      "outputs": []
    },
    {
      "cell_type": "code",
      "metadata": {
        "id": "wlNn1mnrf71O"
      },
      "source": [
        "df['Admission date and time']= pd.to_datetime(df['Admission date and time'], format = \"%d-%m-%Y %H:%M\")\r\n",
        "df['Discharge Date and Time'] = pd.to_datetime(df['Discharge Date and Time'], format = \"%d-%m-%Y %H:%M\")\r\n",
        "# df['Admission date and time'] = df['Admission date and time'].astype('string')"
      ],
      "execution_count": null,
      "outputs": []
    },
    {
      "cell_type": "code",
      "metadata": {
        "colab": {
          "base_uri": "https://localhost:8080/",
          "height": 272
        },
        "id": "xH-mCa_Zj8mf",
        "outputId": "196cdff6-9816-4663-d5ac-aadafc976463"
      },
      "source": [
        "df.head()"
      ],
      "execution_count": null,
      "outputs": [
        {
          "output_type": "execute_result",
          "data": {
            "text/html": [
              "<div>\n",
              "<style scoped>\n",
              "    .dataframe tbody tr th:only-of-type {\n",
              "        vertical-align: middle;\n",
              "    }\n",
              "\n",
              "    .dataframe tbody tr th {\n",
              "        vertical-align: top;\n",
              "    }\n",
              "\n",
              "    .dataframe thead th {\n",
              "        text-align: right;\n",
              "    }\n",
              "</style>\n",
              "<table border=\"1\" class=\"dataframe\">\n",
              "  <thead>\n",
              "    <tr style=\"text-align: right;\">\n",
              "      <th></th>\n",
              "      <th>Patient ID</th>\n",
              "      <th>Age</th>\n",
              "      <th>Specialty</th>\n",
              "      <th>Directorate</th>\n",
              "      <th>Doctor</th>\n",
              "      <th>Admission date and time</th>\n",
              "      <th>Discharge Date and Time</th>\n",
              "      <th>Ward</th>\n",
              "      <th>Admission Type</th>\n",
              "      <th>Admission Category</th>\n",
              "      <th>Admission Source</th>\n",
              "    </tr>\n",
              "  </thead>\n",
              "  <tbody>\n",
              "    <tr>\n",
              "      <th>0</th>\n",
              "      <td>1</td>\n",
              "      <td>76</td>\n",
              "      <td>Adult Stroke</td>\n",
              "      <td>Medical</td>\n",
              "      <td>Fiona O'Donnell</td>\n",
              "      <td>2012-12-05 01:31:00</td>\n",
              "      <td>2013-01-01 00:21:00</td>\n",
              "      <td>Acute  Stroke Unit</td>\n",
              "      <td>A/E</td>\n",
              "      <td>Private Patient</td>\n",
              "      <td>ED</td>\n",
              "    </tr>\n",
              "    <tr>\n",
              "      <th>1</th>\n",
              "      <td>2</td>\n",
              "      <td>41</td>\n",
              "      <td>Adult Urology</td>\n",
              "      <td>Surgical</td>\n",
              "      <td>Damian Hinds</td>\n",
              "      <td>2012-12-31 17:01:00</td>\n",
              "      <td>2013-01-01 09:17:00</td>\n",
              "      <td>Lane</td>\n",
              "      <td>A/E</td>\n",
              "      <td>Public Patient</td>\n",
              "      <td>ED</td>\n",
              "    </tr>\n",
              "    <tr>\n",
              "      <th>2</th>\n",
              "      <td>3</td>\n",
              "      <td>46</td>\n",
              "      <td>Adult Cardiology</td>\n",
              "      <td>Medical</td>\n",
              "      <td>Frank Field</td>\n",
              "      <td>2012-12-31 14:29:00</td>\n",
              "      <td>2013-01-01 12:00:00</td>\n",
              "      <td>CCU</td>\n",
              "      <td>A/E</td>\n",
              "      <td>Private Patient</td>\n",
              "      <td>Emergency OPD Admission</td>\n",
              "    </tr>\n",
              "    <tr>\n",
              "      <th>3</th>\n",
              "      <td>4</td>\n",
              "      <td>7</td>\n",
              "      <td>Paediatric Orthopaedics</td>\n",
              "      <td>Paediatric</td>\n",
              "      <td>Gordon Birtwistle</td>\n",
              "      <td>2012-12-31 22:35:00</td>\n",
              "      <td>2013-01-01 16:44:00</td>\n",
              "      <td>OAK</td>\n",
              "      <td>A/E</td>\n",
              "      <td>Public Patient</td>\n",
              "      <td>ED</td>\n",
              "    </tr>\n",
              "    <tr>\n",
              "      <th>4</th>\n",
              "      <td>5</td>\n",
              "      <td>8</td>\n",
              "      <td>Paediatric Orthopaedics</td>\n",
              "      <td>Paediatric</td>\n",
              "      <td>Gordon Birtwistle</td>\n",
              "      <td>2012-12-31 22:31:00</td>\n",
              "      <td>2013-01-01 16:44:00</td>\n",
              "      <td>OAK</td>\n",
              "      <td>A/E</td>\n",
              "      <td>Public Patient</td>\n",
              "      <td>ED</td>\n",
              "    </tr>\n",
              "  </tbody>\n",
              "</table>\n",
              "</div>"
            ],
            "text/plain": [
              "   Patient ID  Age  ... Admission Category         Admission Source\n",
              "0           1   76  ...    Private Patient                       ED\n",
              "1           2   41  ...     Public Patient                       ED\n",
              "2           3   46  ...    Private Patient  Emergency OPD Admission\n",
              "3           4    7  ...     Public Patient                       ED\n",
              "4           5    8  ...     Public Patient                       ED\n",
              "\n",
              "[5 rows x 11 columns]"
            ]
          },
          "metadata": {
            "tags": []
          },
          "execution_count": 8
        }
      ]
    },
    {
      "cell_type": "code",
      "metadata": {
        "colab": {
          "base_uri": "https://localhost:8080/"
        },
        "id": "vqqyLtL9jBIp",
        "outputId": "5ed00109-16c5-4006-daac-2527b28b07bb"
      },
      "source": [
        "df.info()"
      ],
      "execution_count": null,
      "outputs": [
        {
          "output_type": "stream",
          "text": [
            "<class 'pandas.core.frame.DataFrame'>\n",
            "RangeIndex: 12411 entries, 0 to 12410\n",
            "Data columns (total 11 columns):\n",
            " #   Column                   Non-Null Count  Dtype         \n",
            "---  ------                   --------------  -----         \n",
            " 0   Patient ID               12411 non-null  int64         \n",
            " 1   Age                      12411 non-null  int64         \n",
            " 2   Specialty                12411 non-null  object        \n",
            " 3   Directorate              12411 non-null  object        \n",
            " 4   Doctor                   12411 non-null  object        \n",
            " 5   Admission date and time  12411 non-null  datetime64[ns]\n",
            " 6   Discharge Date and Time  12411 non-null  datetime64[ns]\n",
            " 7   Ward                     12411 non-null  object        \n",
            " 8   Admission Type           12411 non-null  object        \n",
            " 9   Admission Category       12411 non-null  object        \n",
            " 10  Admission Source         12411 non-null  object        \n",
            "dtypes: datetime64[ns](2), int64(2), object(7)\n",
            "memory usage: 1.0+ MB\n"
          ],
          "name": "stdout"
        }
      ]
    },
    {
      "cell_type": "markdown",
      "metadata": {
        "id": "vwuXuZqEEVS2"
      },
      "source": [
        "## Compute Length of Stay for Patients"
      ]
    },
    {
      "cell_type": "code",
      "metadata": {
        "id": "iScCt5lDeo4E"
      },
      "source": [
        "df['LOS'] = df['Discharge Date and Time'] - df['Admission date and time'] \r\n",
        "df['LOS'] = (df['LOS'].dt.days )+ 1"
      ],
      "execution_count": null,
      "outputs": []
    },
    {
      "cell_type": "code",
      "metadata": {
        "colab": {
          "base_uri": "https://localhost:8080/",
          "height": 289
        },
        "id": "cmiCQ2_zgkUq",
        "outputId": "c5bf85a6-647d-46fe-af57-e55f090ebff4"
      },
      "source": [
        "df.head()"
      ],
      "execution_count": null,
      "outputs": [
        {
          "output_type": "execute_result",
          "data": {
            "text/html": [
              "<div>\n",
              "<style scoped>\n",
              "    .dataframe tbody tr th:only-of-type {\n",
              "        vertical-align: middle;\n",
              "    }\n",
              "\n",
              "    .dataframe tbody tr th {\n",
              "        vertical-align: top;\n",
              "    }\n",
              "\n",
              "    .dataframe thead th {\n",
              "        text-align: right;\n",
              "    }\n",
              "</style>\n",
              "<table border=\"1\" class=\"dataframe\">\n",
              "  <thead>\n",
              "    <tr style=\"text-align: right;\">\n",
              "      <th></th>\n",
              "      <th>Patient ID</th>\n",
              "      <th>Age</th>\n",
              "      <th>Specialty</th>\n",
              "      <th>Directorate</th>\n",
              "      <th>Doctor</th>\n",
              "      <th>Admission date and time</th>\n",
              "      <th>Discharge Date and Time</th>\n",
              "      <th>Ward</th>\n",
              "      <th>Admission Type</th>\n",
              "      <th>Admission Category</th>\n",
              "      <th>Admission Source</th>\n",
              "      <th>LOS</th>\n",
              "    </tr>\n",
              "  </thead>\n",
              "  <tbody>\n",
              "    <tr>\n",
              "      <th>0</th>\n",
              "      <td>1</td>\n",
              "      <td>76</td>\n",
              "      <td>Adult Stroke</td>\n",
              "      <td>Medical</td>\n",
              "      <td>Fiona O'Donnell</td>\n",
              "      <td>2012-12-05 01:31:00</td>\n",
              "      <td>2013-01-01 00:21:00</td>\n",
              "      <td>Acute  Stroke Unit</td>\n",
              "      <td>A/E</td>\n",
              "      <td>Private Patient</td>\n",
              "      <td>ED</td>\n",
              "      <td>27</td>\n",
              "    </tr>\n",
              "    <tr>\n",
              "      <th>1</th>\n",
              "      <td>2</td>\n",
              "      <td>41</td>\n",
              "      <td>Adult Urology</td>\n",
              "      <td>Surgical</td>\n",
              "      <td>Damian Hinds</td>\n",
              "      <td>2012-12-31 17:01:00</td>\n",
              "      <td>2013-01-01 09:17:00</td>\n",
              "      <td>Lane</td>\n",
              "      <td>A/E</td>\n",
              "      <td>Public Patient</td>\n",
              "      <td>ED</td>\n",
              "      <td>1</td>\n",
              "    </tr>\n",
              "    <tr>\n",
              "      <th>2</th>\n",
              "      <td>3</td>\n",
              "      <td>46</td>\n",
              "      <td>Adult Cardiology</td>\n",
              "      <td>Medical</td>\n",
              "      <td>Frank Field</td>\n",
              "      <td>2012-12-31 14:29:00</td>\n",
              "      <td>2013-01-01 12:00:00</td>\n",
              "      <td>CCU</td>\n",
              "      <td>A/E</td>\n",
              "      <td>Private Patient</td>\n",
              "      <td>Emergency OPD Admission</td>\n",
              "      <td>1</td>\n",
              "    </tr>\n",
              "    <tr>\n",
              "      <th>3</th>\n",
              "      <td>4</td>\n",
              "      <td>7</td>\n",
              "      <td>Paediatric Orthopaedics</td>\n",
              "      <td>Paediatric</td>\n",
              "      <td>Gordon Birtwistle</td>\n",
              "      <td>2012-12-31 22:35:00</td>\n",
              "      <td>2013-01-01 16:44:00</td>\n",
              "      <td>OAK</td>\n",
              "      <td>A/E</td>\n",
              "      <td>Public Patient</td>\n",
              "      <td>ED</td>\n",
              "      <td>1</td>\n",
              "    </tr>\n",
              "    <tr>\n",
              "      <th>4</th>\n",
              "      <td>5</td>\n",
              "      <td>8</td>\n",
              "      <td>Paediatric Orthopaedics</td>\n",
              "      <td>Paediatric</td>\n",
              "      <td>Gordon Birtwistle</td>\n",
              "      <td>2012-12-31 22:31:00</td>\n",
              "      <td>2013-01-01 16:44:00</td>\n",
              "      <td>OAK</td>\n",
              "      <td>A/E</td>\n",
              "      <td>Public Patient</td>\n",
              "      <td>ED</td>\n",
              "      <td>1</td>\n",
              "    </tr>\n",
              "  </tbody>\n",
              "</table>\n",
              "</div>"
            ],
            "text/plain": [
              "   Patient ID  Age  ...         Admission Source LOS\n",
              "0           1   76  ...                       ED  27\n",
              "1           2   41  ...                       ED   1\n",
              "2           3   46  ...  Emergency OPD Admission   1\n",
              "3           4    7  ...                       ED   1\n",
              "4           5    8  ...                       ED   1\n",
              "\n",
              "[5 rows x 12 columns]"
            ]
          },
          "metadata": {
            "tags": []
          },
          "execution_count": 11
        }
      ]
    },
    {
      "cell_type": "code",
      "metadata": {
        "id": "HszxwzZFhGh4"
      },
      "source": [
        "df['Admission Source'] = df['Admission Source'].astype('category')\r\n",
        "df['Specialty'] = df['Specialty'].astype('category')\r\n",
        "df['Directorate'] = df['Directorate'].astype('category')\r\n",
        "df['Doctor'] = df['Doctor'].astype('category')\r\n",
        "df['Admission Category'] = df['Admission Category'].astype('category')\r\n",
        "df['Admission Source'] = df['Admission Source'].astype('category')"
      ],
      "execution_count": null,
      "outputs": []
    },
    {
      "cell_type": "code",
      "metadata": {
        "colab": {
          "base_uri": "https://localhost:8080/"
        },
        "id": "-JGqCoAjiKTG",
        "outputId": "2a612a5d-a54c-47f5-8071-c58679f2da29"
      },
      "source": [
        "df.info()"
      ],
      "execution_count": null,
      "outputs": [
        {
          "output_type": "stream",
          "text": [
            "<class 'pandas.core.frame.DataFrame'>\n",
            "RangeIndex: 12411 entries, 0 to 12410\n",
            "Data columns (total 12 columns):\n",
            " #   Column                   Non-Null Count  Dtype         \n",
            "---  ------                   --------------  -----         \n",
            " 0   Patient ID               12411 non-null  int64         \n",
            " 1   Age                      12411 non-null  int64         \n",
            " 2   Specialty                12411 non-null  category      \n",
            " 3   Directorate              12411 non-null  category      \n",
            " 4   Doctor                   12411 non-null  category      \n",
            " 5   Admission date and time  12411 non-null  datetime64[ns]\n",
            " 6   Discharge Date and Time  12411 non-null  datetime64[ns]\n",
            " 7   Ward                     12411 non-null  object        \n",
            " 8   Admission Type           12411 non-null  object        \n",
            " 9   Admission Category       12411 non-null  category      \n",
            " 10  Admission Source         12411 non-null  category      \n",
            " 11  LOS                      12411 non-null  int64         \n",
            "dtypes: category(5), datetime64[ns](2), int64(3), object(2)\n",
            "memory usage: 742.3+ KB\n"
          ],
          "name": "stdout"
        }
      ]
    },
    {
      "cell_type": "markdown",
      "metadata": {
        "id": "EUbZT5I0Efxn"
      },
      "source": [
        "# Grouping the patients into adult and child categories\r\n",
        "0 -16 years ==> Child\r\n",
        "\r\n",
        "greater than 16 ==> Adult"
      ]
    },
    {
      "cell_type": "code",
      "metadata": {
        "id": "lXdxWsmSjII1"
      },
      "source": [
        "import pandas as pd \r\n",
        "\r\n",
        "def setCategory(c):\r\n",
        "    if c >=0 and c <=16:\r\n",
        "        return 'Child'\r\n",
        "    elif c >=16 and c <= 200:\r\n",
        "        return 'Adult'\r\n",
        "\r\n",
        "df['ageGrp'] = df['Age'].apply(setCategory)"
      ],
      "execution_count": null,
      "outputs": []
    },
    {
      "cell_type": "code",
      "metadata": {
        "colab": {
          "base_uri": "https://localhost:8080/",
          "height": 289
        },
        "id": "tCl_uII1pRQy",
        "outputId": "de83603c-cb7c-4bab-fe1b-5992a11de863"
      },
      "source": [
        "df.head()"
      ],
      "execution_count": null,
      "outputs": [
        {
          "output_type": "execute_result",
          "data": {
            "text/html": [
              "<div>\n",
              "<style scoped>\n",
              "    .dataframe tbody tr th:only-of-type {\n",
              "        vertical-align: middle;\n",
              "    }\n",
              "\n",
              "    .dataframe tbody tr th {\n",
              "        vertical-align: top;\n",
              "    }\n",
              "\n",
              "    .dataframe thead th {\n",
              "        text-align: right;\n",
              "    }\n",
              "</style>\n",
              "<table border=\"1\" class=\"dataframe\">\n",
              "  <thead>\n",
              "    <tr style=\"text-align: right;\">\n",
              "      <th></th>\n",
              "      <th>Patient ID</th>\n",
              "      <th>Age</th>\n",
              "      <th>Specialty</th>\n",
              "      <th>Directorate</th>\n",
              "      <th>Doctor</th>\n",
              "      <th>Admission date and time</th>\n",
              "      <th>Discharge Date and Time</th>\n",
              "      <th>Ward</th>\n",
              "      <th>Admission Type</th>\n",
              "      <th>Admission Category</th>\n",
              "      <th>Admission Source</th>\n",
              "      <th>LOS</th>\n",
              "      <th>ageGrp</th>\n",
              "    </tr>\n",
              "  </thead>\n",
              "  <tbody>\n",
              "    <tr>\n",
              "      <th>0</th>\n",
              "      <td>1</td>\n",
              "      <td>76</td>\n",
              "      <td>Adult Stroke</td>\n",
              "      <td>Medical</td>\n",
              "      <td>Fiona O'Donnell</td>\n",
              "      <td>2012-12-05 01:31:00</td>\n",
              "      <td>2013-01-01 00:21:00</td>\n",
              "      <td>Acute  Stroke Unit</td>\n",
              "      <td>A/E</td>\n",
              "      <td>Private Patient</td>\n",
              "      <td>ED</td>\n",
              "      <td>27</td>\n",
              "      <td>Adult</td>\n",
              "    </tr>\n",
              "    <tr>\n",
              "      <th>1</th>\n",
              "      <td>2</td>\n",
              "      <td>41</td>\n",
              "      <td>Adult Urology</td>\n",
              "      <td>Surgical</td>\n",
              "      <td>Damian Hinds</td>\n",
              "      <td>2012-12-31 17:01:00</td>\n",
              "      <td>2013-01-01 09:17:00</td>\n",
              "      <td>Lane</td>\n",
              "      <td>A/E</td>\n",
              "      <td>Public Patient</td>\n",
              "      <td>ED</td>\n",
              "      <td>1</td>\n",
              "      <td>Adult</td>\n",
              "    </tr>\n",
              "    <tr>\n",
              "      <th>2</th>\n",
              "      <td>3</td>\n",
              "      <td>46</td>\n",
              "      <td>Adult Cardiology</td>\n",
              "      <td>Medical</td>\n",
              "      <td>Frank Field</td>\n",
              "      <td>2012-12-31 14:29:00</td>\n",
              "      <td>2013-01-01 12:00:00</td>\n",
              "      <td>CCU</td>\n",
              "      <td>A/E</td>\n",
              "      <td>Private Patient</td>\n",
              "      <td>Emergency OPD Admission</td>\n",
              "      <td>1</td>\n",
              "      <td>Adult</td>\n",
              "    </tr>\n",
              "    <tr>\n",
              "      <th>3</th>\n",
              "      <td>4</td>\n",
              "      <td>7</td>\n",
              "      <td>Paediatric Orthopaedics</td>\n",
              "      <td>Paediatric</td>\n",
              "      <td>Gordon Birtwistle</td>\n",
              "      <td>2012-12-31 22:35:00</td>\n",
              "      <td>2013-01-01 16:44:00</td>\n",
              "      <td>OAK</td>\n",
              "      <td>A/E</td>\n",
              "      <td>Public Patient</td>\n",
              "      <td>ED</td>\n",
              "      <td>1</td>\n",
              "      <td>Child</td>\n",
              "    </tr>\n",
              "    <tr>\n",
              "      <th>4</th>\n",
              "      <td>5</td>\n",
              "      <td>8</td>\n",
              "      <td>Paediatric Orthopaedics</td>\n",
              "      <td>Paediatric</td>\n",
              "      <td>Gordon Birtwistle</td>\n",
              "      <td>2012-12-31 22:31:00</td>\n",
              "      <td>2013-01-01 16:44:00</td>\n",
              "      <td>OAK</td>\n",
              "      <td>A/E</td>\n",
              "      <td>Public Patient</td>\n",
              "      <td>ED</td>\n",
              "      <td>1</td>\n",
              "      <td>Child</td>\n",
              "    </tr>\n",
              "  </tbody>\n",
              "</table>\n",
              "</div>"
            ],
            "text/plain": [
              "   Patient ID  Age  ... LOS ageGrp\n",
              "0           1   76  ...  27  Adult\n",
              "1           2   41  ...   1  Adult\n",
              "2           3   46  ...   1  Adult\n",
              "3           4    7  ...   1  Child\n",
              "4           5    8  ...   1  Child\n",
              "\n",
              "[5 rows x 13 columns]"
            ]
          },
          "metadata": {
            "tags": []
          },
          "execution_count": 15
        }
      ]
    },
    {
      "cell_type": "markdown",
      "metadata": {
        "id": "0ebDa8bFw8FU"
      },
      "source": [
        "# Regression Model\r\n"
      ]
    },
    {
      "cell_type": "code",
      "metadata": {
        "colab": {
          "base_uri": "https://localhost:8080/"
        },
        "id": "X5Mxd1q1xfZx",
        "outputId": "3e65a32a-7b2a-4aa4-8847-7af8b8e56fb4"
      },
      "source": [
        "# Calculate Coefficients\r\n",
        " \r\n",
        "# Calculate the mean value of a list of numbers\r\n",
        "def mean(values):\r\n",
        "\treturn sum(values) / float(len(values))\r\n",
        " \r\n",
        "# Calculate covariance between x and y\r\n",
        "def covariance(x, mean_x, y, mean_y):\r\n",
        "\tcovar = 0.0\r\n",
        "\tfor i in range(len(x)):\r\n",
        "\t\tcovar += (x[i] - mean_x) * (y[i] - mean_y)\r\n",
        "\treturn covar\r\n",
        " \r\n",
        "# Calculate the variance of a list of numbers\r\n",
        "def variance(values, mean):\r\n",
        "\treturn sum([(x-mean)**2 for x in values])\r\n",
        "  \r\n",
        "# calculate coefficients\r\n",
        "x = df['Age']\r\n",
        "y = df['LOS']\r\n",
        "x_mean, y_mean = mean(x), mean(y)\r\n",
        "b1 = covariance(x, x_mean, y, y_mean) / variance(x, x_mean)\r\n",
        "b0 = y_mean - b1 * x_mean\r\n",
        "print('Coefficients: B0=%.3f, B1=%.3f' % (b0, b1))"
      ],
      "execution_count": null,
      "outputs": [
        {
          "output_type": "stream",
          "text": [
            "Coefficients: B0=1.123, B1=0.110\n"
          ],
          "name": "stdout"
        }
      ]
    },
    {
      "cell_type": "code",
      "metadata": {
        "id": "KhuoTcZzzBuN"
      },
      "source": [
        "from math import sqrt\r\n",
        "import numpy as np\r\n",
        " \r\n",
        "# Evaluate regression algorithm on training dataset\r\n",
        "def evaluate_algorithm(dataset, algorithm):\r\n",
        "\ttest_set = list()\r\n",
        "\tfor row in dataset:\r\n",
        "\t\trow_copy = list(row)\r\n",
        "\t\trow_copy[-1] = None\r\n",
        "\t\ttest_set.append(row_copy)\r\n",
        "\tpredicted = algorithm(dataset, test_set)\r\n",
        "\tdf['predictedLOS'] = predicted[0]\r\n",
        "\tactual = [row[-1] for row in dataset]\r\n",
        " \r\n",
        "# Simple linear regression algorithm\r\n",
        "def simple_linear_regression(train, test):\r\n",
        "\tpredictions = list()\r\n",
        "\tfor row in test:\r\n",
        "\t\tyhat = (b0 + b1 )* y\r\n",
        "\t\tpredictions.append(yhat)\r\n",
        "\treturn predictions\r\n",
        " \r\n",
        "# Test simple linear regression\r\n",
        "evaluate_algorithm(df, simple_linear_regression)\r\n",
        "df['predictedLOS'] = df['predictedLOS'].astype(np.int64)\r\n"
      ],
      "execution_count": null,
      "outputs": []
    },
    {
      "cell_type": "code",
      "metadata": {
        "colab": {
          "base_uri": "https://localhost:8080/"
        },
        "id": "TlwdP7ja5X7x",
        "outputId": "e1b8e6bc-de9f-4004-b5d7-f9f61573377b"
      },
      "source": [
        "#Evaluate the Predictions\r\n",
        "diff = (df['predictedLOS'] - df['LOS']) ** 2\r\n",
        "meandiff = diff.sum()/ len('LOS')\r\n",
        "rmse = sqrt(meandiff)\r\n",
        "print(\"RMSE OF OREDICTION\", rmse)"
      ],
      "execution_count": null,
      "outputs": [
        {
          "output_type": "stream",
          "text": [
            "RMSE OF OREDICTION 224.43261795024358\n"
          ],
          "name": "stdout"
        }
      ]
    },
    {
      "cell_type": "markdown",
      "metadata": {
        "id": "FSrRXge3rcr1"
      },
      "source": [
        "## Computing Bed Requirement"
      ]
    },
    {
      "cell_type": "code",
      "metadata": {
        "colab": {
          "base_uri": "https://localhost:8080/"
        },
        "id": "-SRJ5HyUrb66",
        "outputId": "8d514dbb-5471-455e-ab8f-e197a07d08b1"
      },
      "source": [
        "#Bed requirement is calcualted using formula BR = (No.of Patient Admissions*Average LOS)/365\r\n",
        "\r\n",
        "avgLOS = df['LOS'].mean() # avearge of Length of stay\r\n",
        "n = len(pd.unique(df['Admission date and time']))  #unique dates in the data\r\n",
        "avgAdmRate = df['Admission date and time'].count()/n #average admissions per day\r\n",
        "totalPatients = df['Patient ID'].count()   #toatlpatients\r\n",
        "\r\n",
        "\r\n",
        "bedRequired = (totalPatients * avgAdmRate * avgLOS) / 365\r\n",
        "print(\"Bed Required\", bedRequired)"
      ],
      "execution_count": null,
      "outputs": [
        {
          "output_type": "stream",
          "text": [
            "Bed Required 227.78514754384435\n"
          ],
          "name": "stdout"
        }
      ]
    },
    {
      "cell_type": "markdown",
      "metadata": {
        "id": "QRahEWFDvq6V"
      },
      "source": [
        "## Increasing the age by factor of 20%"
      ]
    },
    {
      "cell_type": "code",
      "metadata": {
        "id": "YH7_XdP3vpfq"
      },
      "source": [
        "df['newAge'] = df['Age']*1.2"
      ],
      "execution_count": null,
      "outputs": []
    },
    {
      "cell_type": "code",
      "metadata": {
        "id": "Kc-z9j4cv102"
      },
      "source": [
        "df['newAgeGrp'] = df['newAge'].apply(setCategory)"
      ],
      "execution_count": null,
      "outputs": []
    },
    {
      "cell_type": "code",
      "metadata": {
        "colab": {
          "base_uri": "https://localhost:8080/",
          "height": 306
        },
        "id": "Yg5NK6j_v_vy",
        "outputId": "d364194f-04a0-44f3-cfe0-953b57939cda"
      },
      "source": [
        "df.head()"
      ],
      "execution_count": null,
      "outputs": [
        {
          "output_type": "execute_result",
          "data": {
            "text/html": [
              "<div>\n",
              "<style scoped>\n",
              "    .dataframe tbody tr th:only-of-type {\n",
              "        vertical-align: middle;\n",
              "    }\n",
              "\n",
              "    .dataframe tbody tr th {\n",
              "        vertical-align: top;\n",
              "    }\n",
              "\n",
              "    .dataframe thead th {\n",
              "        text-align: right;\n",
              "    }\n",
              "</style>\n",
              "<table border=\"1\" class=\"dataframe\">\n",
              "  <thead>\n",
              "    <tr style=\"text-align: right;\">\n",
              "      <th></th>\n",
              "      <th>Patient ID</th>\n",
              "      <th>Age</th>\n",
              "      <th>Specialty</th>\n",
              "      <th>Directorate</th>\n",
              "      <th>Doctor</th>\n",
              "      <th>Admission date and time</th>\n",
              "      <th>Discharge Date and Time</th>\n",
              "      <th>Ward</th>\n",
              "      <th>Admission Type</th>\n",
              "      <th>Admission Category</th>\n",
              "      <th>Admission Source</th>\n",
              "      <th>LOS</th>\n",
              "      <th>ageGrp</th>\n",
              "      <th>predictedLOS</th>\n",
              "      <th>newAge</th>\n",
              "      <th>newAgeGrp</th>\n",
              "    </tr>\n",
              "  </thead>\n",
              "  <tbody>\n",
              "    <tr>\n",
              "      <th>0</th>\n",
              "      <td>1</td>\n",
              "      <td>76</td>\n",
              "      <td>Adult Stroke</td>\n",
              "      <td>Medical</td>\n",
              "      <td>Fiona O'Donnell</td>\n",
              "      <td>2012-12-05 01:31:00</td>\n",
              "      <td>2013-01-01 00:21:00</td>\n",
              "      <td>Acute  Stroke Unit</td>\n",
              "      <td>A/E</td>\n",
              "      <td>Private Patient</td>\n",
              "      <td>ED</td>\n",
              "      <td>27</td>\n",
              "      <td>Adult</td>\n",
              "      <td>33</td>\n",
              "      <td>91.2</td>\n",
              "      <td>Adult</td>\n",
              "    </tr>\n",
              "    <tr>\n",
              "      <th>1</th>\n",
              "      <td>2</td>\n",
              "      <td>41</td>\n",
              "      <td>Adult Urology</td>\n",
              "      <td>Surgical</td>\n",
              "      <td>Damian Hinds</td>\n",
              "      <td>2012-12-31 17:01:00</td>\n",
              "      <td>2013-01-01 09:17:00</td>\n",
              "      <td>Lane</td>\n",
              "      <td>A/E</td>\n",
              "      <td>Public Patient</td>\n",
              "      <td>ED</td>\n",
              "      <td>1</td>\n",
              "      <td>Adult</td>\n",
              "      <td>1</td>\n",
              "      <td>49.2</td>\n",
              "      <td>Adult</td>\n",
              "    </tr>\n",
              "    <tr>\n",
              "      <th>2</th>\n",
              "      <td>3</td>\n",
              "      <td>46</td>\n",
              "      <td>Adult Cardiology</td>\n",
              "      <td>Medical</td>\n",
              "      <td>Frank Field</td>\n",
              "      <td>2012-12-31 14:29:00</td>\n",
              "      <td>2013-01-01 12:00:00</td>\n",
              "      <td>CCU</td>\n",
              "      <td>A/E</td>\n",
              "      <td>Private Patient</td>\n",
              "      <td>Emergency OPD Admission</td>\n",
              "      <td>1</td>\n",
              "      <td>Adult</td>\n",
              "      <td>1</td>\n",
              "      <td>55.2</td>\n",
              "      <td>Adult</td>\n",
              "    </tr>\n",
              "    <tr>\n",
              "      <th>3</th>\n",
              "      <td>4</td>\n",
              "      <td>7</td>\n",
              "      <td>Paediatric Orthopaedics</td>\n",
              "      <td>Paediatric</td>\n",
              "      <td>Gordon Birtwistle</td>\n",
              "      <td>2012-12-31 22:35:00</td>\n",
              "      <td>2013-01-01 16:44:00</td>\n",
              "      <td>OAK</td>\n",
              "      <td>A/E</td>\n",
              "      <td>Public Patient</td>\n",
              "      <td>ED</td>\n",
              "      <td>1</td>\n",
              "      <td>Child</td>\n",
              "      <td>1</td>\n",
              "      <td>8.4</td>\n",
              "      <td>Child</td>\n",
              "    </tr>\n",
              "    <tr>\n",
              "      <th>4</th>\n",
              "      <td>5</td>\n",
              "      <td>8</td>\n",
              "      <td>Paediatric Orthopaedics</td>\n",
              "      <td>Paediatric</td>\n",
              "      <td>Gordon Birtwistle</td>\n",
              "      <td>2012-12-31 22:31:00</td>\n",
              "      <td>2013-01-01 16:44:00</td>\n",
              "      <td>OAK</td>\n",
              "      <td>A/E</td>\n",
              "      <td>Public Patient</td>\n",
              "      <td>ED</td>\n",
              "      <td>1</td>\n",
              "      <td>Child</td>\n",
              "      <td>1</td>\n",
              "      <td>9.6</td>\n",
              "      <td>Child</td>\n",
              "    </tr>\n",
              "  </tbody>\n",
              "</table>\n",
              "</div>"
            ],
            "text/plain": [
              "   Patient ID  Age                Specialty  ... predictedLOS newAge newAgeGrp\n",
              "0           1   76             Adult Stroke  ...           33   91.2     Adult\n",
              "1           2   41            Adult Urology  ...            1   49.2     Adult\n",
              "2           3   46         Adult Cardiology  ...            1   55.2     Adult\n",
              "3           4    7  Paediatric Orthopaedics  ...            1    8.4     Child\n",
              "4           5    8  Paediatric Orthopaedics  ...            1    9.6     Child\n",
              "\n",
              "[5 rows x 16 columns]"
            ]
          },
          "metadata": {
            "tags": []
          },
          "execution_count": 22
        }
      ]
    },
    {
      "cell_type": "markdown",
      "metadata": {
        "id": "64qpPOfY5MpX"
      },
      "source": [
        "# Predict Length of Stay for Increased Age"
      ]
    },
    {
      "cell_type": "code",
      "metadata": {
        "colab": {
          "base_uri": "https://localhost:8080/"
        },
        "id": "rnUnf1p35LQu",
        "outputId": "18b15c13-6a94-45e7-a225-1651acaa1a52"
      },
      "source": [
        "# Calculate Coefficients\r\n",
        " \r\n",
        "# Calculate the mean value of a list of numbers\r\n",
        "def mean(values):\r\n",
        "\treturn sum(values) / float(len(values))\r\n",
        " \r\n",
        "# Calculate covariance between x and y\r\n",
        "def covariance(x, mean_x, y, mean_y):\r\n",
        "\tcovar = 0.0\r\n",
        "\tfor i in range(len(x)):\r\n",
        "\t\tcovar += (x[i] - mean_x) * (y[i] - mean_y)\r\n",
        "\treturn covar\r\n",
        " \r\n",
        "# Calculate the variance of a list of numbers\r\n",
        "def variance(values, mean):\r\n",
        "\treturn sum([(x-mean)**2 for x in values])\r\n",
        "  \r\n",
        "# calculate coefficients\r\n",
        "x = df['newAge']\r\n",
        "y = df['LOS']\r\n",
        "x_mean, y_mean = mean(x), mean(y)\r\n",
        "b1 = covariance(x, x_mean, y, y_mean) / variance(x, x_mean)\r\n",
        "b0 = y_mean - b1 * x_mean\r\n",
        "print('Coefficients: B0=%.3f, B1=%.3f' % (b0, b1))"
      ],
      "execution_count": null,
      "outputs": [
        {
          "output_type": "stream",
          "text": [
            "Coefficients: B0=1.123, B1=0.092\n"
          ],
          "name": "stdout"
        }
      ]
    },
    {
      "cell_type": "code",
      "metadata": {
        "id": "bIaxbhoA65Df"
      },
      "source": [
        "from math import sqrt\r\n",
        "import numpy as np\r\n",
        " \r\n",
        "# Evaluate regression algorithm on training dataset\r\n",
        "def evaluate_algorithm(dataset, algorithm):\r\n",
        "\ttest_set = list()\r\n",
        "\tfor row in dataset:\r\n",
        "\t\trow_copy = list(row)\r\n",
        "\t\trow_copy[-1] = None\r\n",
        "\t\ttest_set.append(row_copy)\r\n",
        "\tpredicted = algorithm(dataset, test_set)\r\n",
        "\tdf['newAgepredictedLOS'] = predicted[0]\r\n",
        "\tactual = [row[-1] for row in dataset]\r\n",
        " \r\n",
        "# Simple linear regression algorithm\r\n",
        "def simple_linear_regression(train, test):\r\n",
        "\tpredictions = list()\r\n",
        "\tfor row in test:\r\n",
        "\t\tyhat = (b0 + b1 )* y\r\n",
        "\t\tpredictions.append(yhat)\r\n",
        "\treturn predictions\r\n",
        " \r\n",
        "# Test simple linear regression\r\n",
        "evaluate_algorithm(df, simple_linear_regression)\r\n",
        "df['newAgepredictedLOS'] = df['newAgepredictedLOS'].astype(np.int64)\r\n"
      ],
      "execution_count": null,
      "outputs": []
    },
    {
      "cell_type": "code",
      "metadata": {
        "colab": {
          "base_uri": "https://localhost:8080/",
          "height": 357
        },
        "id": "VejyOx-k7Bf-",
        "outputId": "2be52271-e41a-437b-a8c6-a701bea4a6c8"
      },
      "source": [
        "df.head()"
      ],
      "execution_count": null,
      "outputs": [
        {
          "output_type": "execute_result",
          "data": {
            "text/html": [
              "<div>\n",
              "<style scoped>\n",
              "    .dataframe tbody tr th:only-of-type {\n",
              "        vertical-align: middle;\n",
              "    }\n",
              "\n",
              "    .dataframe tbody tr th {\n",
              "        vertical-align: top;\n",
              "    }\n",
              "\n",
              "    .dataframe thead th {\n",
              "        text-align: right;\n",
              "    }\n",
              "</style>\n",
              "<table border=\"1\" class=\"dataframe\">\n",
              "  <thead>\n",
              "    <tr style=\"text-align: right;\">\n",
              "      <th></th>\n",
              "      <th>Patient ID</th>\n",
              "      <th>Age</th>\n",
              "      <th>Specialty</th>\n",
              "      <th>Directorate</th>\n",
              "      <th>Doctor</th>\n",
              "      <th>Admission date and time</th>\n",
              "      <th>Discharge Date and Time</th>\n",
              "      <th>Ward</th>\n",
              "      <th>Admission Type</th>\n",
              "      <th>Admission Category</th>\n",
              "      <th>Admission Source</th>\n",
              "      <th>LOS</th>\n",
              "      <th>ageGrp</th>\n",
              "      <th>predictedLOS</th>\n",
              "      <th>newAge</th>\n",
              "      <th>newAgeGrp</th>\n",
              "      <th>newAgepredictedLOS</th>\n",
              "    </tr>\n",
              "  </thead>\n",
              "  <tbody>\n",
              "    <tr>\n",
              "      <th>0</th>\n",
              "      <td>1</td>\n",
              "      <td>76</td>\n",
              "      <td>Adult Stroke</td>\n",
              "      <td>Medical</td>\n",
              "      <td>Fiona O'Donnell</td>\n",
              "      <td>2012-12-05 01:31:00</td>\n",
              "      <td>2013-01-01 00:21:00</td>\n",
              "      <td>Acute  Stroke Unit</td>\n",
              "      <td>A/E</td>\n",
              "      <td>Private Patient</td>\n",
              "      <td>ED</td>\n",
              "      <td>27</td>\n",
              "      <td>Adult</td>\n",
              "      <td>33</td>\n",
              "      <td>91.2</td>\n",
              "      <td>Adult</td>\n",
              "      <td>32</td>\n",
              "    </tr>\n",
              "    <tr>\n",
              "      <th>1</th>\n",
              "      <td>2</td>\n",
              "      <td>41</td>\n",
              "      <td>Adult Urology</td>\n",
              "      <td>Surgical</td>\n",
              "      <td>Damian Hinds</td>\n",
              "      <td>2012-12-31 17:01:00</td>\n",
              "      <td>2013-01-01 09:17:00</td>\n",
              "      <td>Lane</td>\n",
              "      <td>A/E</td>\n",
              "      <td>Public Patient</td>\n",
              "      <td>ED</td>\n",
              "      <td>1</td>\n",
              "      <td>Adult</td>\n",
              "      <td>1</td>\n",
              "      <td>49.2</td>\n",
              "      <td>Adult</td>\n",
              "      <td>1</td>\n",
              "    </tr>\n",
              "    <tr>\n",
              "      <th>2</th>\n",
              "      <td>3</td>\n",
              "      <td>46</td>\n",
              "      <td>Adult Cardiology</td>\n",
              "      <td>Medical</td>\n",
              "      <td>Frank Field</td>\n",
              "      <td>2012-12-31 14:29:00</td>\n",
              "      <td>2013-01-01 12:00:00</td>\n",
              "      <td>CCU</td>\n",
              "      <td>A/E</td>\n",
              "      <td>Private Patient</td>\n",
              "      <td>Emergency OPD Admission</td>\n",
              "      <td>1</td>\n",
              "      <td>Adult</td>\n",
              "      <td>1</td>\n",
              "      <td>55.2</td>\n",
              "      <td>Adult</td>\n",
              "      <td>1</td>\n",
              "    </tr>\n",
              "    <tr>\n",
              "      <th>3</th>\n",
              "      <td>4</td>\n",
              "      <td>7</td>\n",
              "      <td>Paediatric Orthopaedics</td>\n",
              "      <td>Paediatric</td>\n",
              "      <td>Gordon Birtwistle</td>\n",
              "      <td>2012-12-31 22:35:00</td>\n",
              "      <td>2013-01-01 16:44:00</td>\n",
              "      <td>OAK</td>\n",
              "      <td>A/E</td>\n",
              "      <td>Public Patient</td>\n",
              "      <td>ED</td>\n",
              "      <td>1</td>\n",
              "      <td>Child</td>\n",
              "      <td>1</td>\n",
              "      <td>8.4</td>\n",
              "      <td>Child</td>\n",
              "      <td>1</td>\n",
              "    </tr>\n",
              "    <tr>\n",
              "      <th>4</th>\n",
              "      <td>5</td>\n",
              "      <td>8</td>\n",
              "      <td>Paediatric Orthopaedics</td>\n",
              "      <td>Paediatric</td>\n",
              "      <td>Gordon Birtwistle</td>\n",
              "      <td>2012-12-31 22:31:00</td>\n",
              "      <td>2013-01-01 16:44:00</td>\n",
              "      <td>OAK</td>\n",
              "      <td>A/E</td>\n",
              "      <td>Public Patient</td>\n",
              "      <td>ED</td>\n",
              "      <td>1</td>\n",
              "      <td>Child</td>\n",
              "      <td>1</td>\n",
              "      <td>9.6</td>\n",
              "      <td>Child</td>\n",
              "      <td>1</td>\n",
              "    </tr>\n",
              "  </tbody>\n",
              "</table>\n",
              "</div>"
            ],
            "text/plain": [
              "   Patient ID  Age  ... newAgeGrp newAgepredictedLOS\n",
              "0           1   76  ...     Adult                 32\n",
              "1           2   41  ...     Adult                  1\n",
              "2           3   46  ...     Adult                  1\n",
              "3           4    7  ...     Child                  1\n",
              "4           5    8  ...     Child                  1\n",
              "\n",
              "[5 rows x 17 columns]"
            ]
          },
          "metadata": {
            "tags": []
          },
          "execution_count": 25
        }
      ]
    },
    {
      "cell_type": "code",
      "metadata": {
        "colab": {
          "base_uri": "https://localhost:8080/"
        },
        "id": "8dZhT0vU7H6L",
        "outputId": "3000b9b7-8564-45f7-a270-63f092130de3"
      },
      "source": [
        "#Evaluate the Predictions\r\n",
        "diff = (df['newAgepredictedLOS'] - df['LOS']) ** 2\r\n",
        "meandiff = diff.sum()/ len('LOS')\r\n",
        "rmse = sqrt(meandiff)\r\n",
        "print(\"RMSE OF OREDICTION\", rmse)"
      ],
      "execution_count": null,
      "outputs": [
        {
          "output_type": "stream",
          "text": [
            "RMSE OF OREDICTION 206.6026782659573\n"
          ],
          "name": "stdout"
        }
      ]
    },
    {
      "cell_type": "markdown",
      "metadata": {
        "id": "LcA-aZPg7bDM"
      },
      "source": [
        "# Bed Requirements for the increase Patient Age by 20%"
      ]
    },
    {
      "cell_type": "code",
      "metadata": {
        "colab": {
          "base_uri": "https://localhost:8080/"
        },
        "id": "oBZ-B2k97g-J",
        "outputId": "a832dfa4-35ff-43cb-8ec6-c651e1785175"
      },
      "source": [
        "#Bed requirement is calcualted using formula BR = (No.of Patient Admissions*Average LOS)/365\r\n",
        "\r\n",
        "avgLOS = df['newAgepredictedLOS'].mean() # avearge of Length of stay\r\n",
        "n = len(pd.unique(df['Admission date and time']))  #unique dates in the data\r\n",
        "avgAdmRate = df['Admission date and time'].count()/n #average admissions per day\r\n",
        "totalPatients = df['Patient ID'].count()   #toatlpatients\r\n",
        "\r\n",
        "\r\n",
        "newBedRequirement = (totalPatients * avgAdmRate * avgLOS) / 365\r\n",
        "print(\"New Bed Required\", newBedRequirement)"
      ],
      "execution_count": null,
      "outputs": [
        {
          "output_type": "stream",
          "text": [
            "New Bed Required 260.84938277637207\n"
          ],
          "name": "stdout"
        }
      ]
    },
    {
      "cell_type": "markdown",
      "metadata": {
        "id": "BtP0HCOMFgam"
      },
      "source": [
        "# Bed Requiremts for Increased average age of patients by 20%"
      ]
    },
    {
      "cell_type": "code",
      "metadata": {
        "colab": {
          "base_uri": "https://localhost:8080/"
        },
        "id": "5R0LclyZFntI",
        "outputId": "0b3b6cdf-3d44-4c98-855d-2fe8292415a8"
      },
      "source": [
        "# Calculate Coefficients\r\n",
        " \r\n",
        "# Calculate the mean value of a list of numbers\r\n",
        "def mean(values):\r\n",
        "\treturn sum(values) / float(len(values))\r\n",
        " \r\n",
        "# Calculate covariance between x and y\r\n",
        "def covariance(x, mean_x, y, mean_y):\r\n",
        "\tcovar = 0.0\r\n",
        "\tfor i in range(len(x)):\r\n",
        "\t\tcovar += (x[i] - mean_x) * (y[i] - mean_y)\r\n",
        "\treturn covar\r\n",
        " \r\n",
        "# Calculate the variance of a list of numbers\r\n",
        "def variance(values, mean):\r\n",
        "\treturn sum([(x-mean)**2 for x in values])\r\n",
        "  \r\n",
        "# calculate coefficients\r\n",
        "x = df['Age']\r\n",
        "y = df['LOS']\r\n",
        "x_mean, y_mean = mean(x)*1.2, mean(y) #Incresed average of age by 20%\r\n",
        "b1 = covariance(x, x_mean, y, y_mean) / variance(x, x_mean)\r\n",
        "b0 = y_mean - b1 * x_mean\r\n",
        "print('Coefficients: B0=%.3f, B1=%.3f' % (b0, b1))"
      ],
      "execution_count": null,
      "outputs": [
        {
          "output_type": "stream",
          "text": [
            "Coefficients: B0=0.785, B1=0.098\n"
          ],
          "name": "stdout"
        }
      ]
    },
    {
      "cell_type": "code",
      "metadata": {
        "id": "3d4HbmJhF-t_"
      },
      "source": [
        "from math import sqrt\r\n",
        "import numpy as np\r\n",
        " \r\n",
        "# Evaluate regression algorithm on training dataset\r\n",
        "def evaluate_algorithm(dataset, algorithm):\r\n",
        "\ttest_set = list()\r\n",
        "\tfor row in dataset:\r\n",
        "\t\trow_copy = list(row)\r\n",
        "\t\trow_copy[-1] = None\r\n",
        "\t\ttest_set.append(row_copy)\r\n",
        "\tpredicted = algorithm(dataset, test_set)\r\n",
        "\tdf['AgepredictedLOS'] = predicted[0]\r\n",
        "\tactual = [row[-1] for row in dataset]\r\n",
        " \r\n",
        "# Simple linear regression algorithm\r\n",
        "def simple_linear_regression(train, test):\r\n",
        "\tpredictions = list()\r\n",
        "\tfor row in test:\r\n",
        "\t\tyhat = (b0 + b1 )* y\r\n",
        "\t\tpredictions.append(yhat)\r\n",
        "\treturn predictions\r\n",
        " \r\n",
        "# Test simple linear regression\r\n",
        "evaluate_algorithm(df, simple_linear_regression)\r\n",
        "df['AgepredictedLOS'] = df['AgepredictedLOS'].astype(np.int64)\r\n"
      ],
      "execution_count": null,
      "outputs": []
    },
    {
      "cell_type": "code",
      "metadata": {
        "colab": {
          "base_uri": "https://localhost:8080/"
        },
        "id": "kYctC2WIGHhd",
        "outputId": "b8f6a4f8-0607-4462-8550-32b525d29c90"
      },
      "source": [
        "#Evaluate the Predictions\r\n",
        "diff = (df['AgepredictedLOS'] - df['LOS']) ** 2\r\n",
        "meandiff = diff.sum()/ len('LOS')\r\n",
        "rmse = sqrt(meandiff)\r\n",
        "print(\"RMSE OF PREDICTION\", rmse)"
      ],
      "execution_count": null,
      "outputs": [
        {
          "output_type": "stream",
          "text": [
            "RMSE OF PREDICTION 137.78606605894515\n"
          ],
          "name": "stdout"
        }
      ]
    },
    {
      "cell_type": "code",
      "metadata": {
        "colab": {
          "base_uri": "https://localhost:8080/"
        },
        "id": "pSIIH351GNa3",
        "outputId": "e6546090-669d-4711-8d41-294e2b38b795"
      },
      "source": [
        "#Bed requirement is calcualted using formula BR = (No.of Patient Admissions*Average LOS)/365\r\n",
        "\r\n",
        "avgLOS = df['AgepredictedLOS'].mean() # avearge of Length of stay\r\n",
        "n = len(pd.unique(df['Admission date and time']))  #unique dates in the data\r\n",
        "avgAdmRate = df['Admission date and time'].count()/n #average admissions per day\r\n",
        "totalPatients = df['Patient ID'].count()   #toatlpatients\r\n",
        "\r\n",
        "BedRequirement = (totalPatients * avgAdmRate * avgLOS) / 365\r\n",
        "print(\"Bed Requirement when average age of patients incraesed by 20%\", BedRequirement)"
      ],
      "execution_count": null,
      "outputs": [
        {
          "output_type": "stream",
          "text": [
            "Bed Requirement when average age of patients incraesed by 20% 178.66237850100342\n"
          ],
          "name": "stdout"
        }
      ]
    },
    {
      "cell_type": "code",
      "metadata": {
        "colab": {
          "base_uri": "https://localhost:8080/",
          "height": 542
        },
        "id": "AU0-xbBgG5qh",
        "outputId": "ca5201c3-5535-4e98-b3bc-7ddd83103c98"
      },
      "source": [
        "import plotly.graph_objects as go\r\n",
        "\r\n",
        "fig = go.Figure(data=[go.Table(header=dict(values=['Conditions', 'Bed Requirements']),\r\n",
        "                 cells=dict(values=[['Original Age', 'Age of each patients increased by 20%','Average age increased by 20%'], [bedRequired, newBedRequirement, BedRequirement]]))\r\n",
        "                     ])\r\n",
        "fig.show()"
      ],
      "execution_count": null,
      "outputs": [
        {
          "output_type": "display_data",
          "data": {
            "text/html": [
              "<html>\n",
              "<head><meta charset=\"utf-8\" /></head>\n",
              "<body>\n",
              "    <div>\n",
              "            <script src=\"https://cdnjs.cloudflare.com/ajax/libs/mathjax/2.7.5/MathJax.js?config=TeX-AMS-MML_SVG\"></script><script type=\"text/javascript\">if (window.MathJax) {MathJax.Hub.Config({SVG: {font: \"STIX-Web\"}});}</script>\n",
              "                <script type=\"text/javascript\">window.PlotlyConfig = {MathJaxConfig: 'local'};</script>\n",
              "        <script src=\"https://cdn.plot.ly/plotly-latest.min.js\"></script>    \n",
              "            <div id=\"9d33f037-125d-4046-8a64-6b93cefcfed1\" class=\"plotly-graph-div\" style=\"height:525px; width:100%;\"></div>\n",
              "            <script type=\"text/javascript\">\n",
              "                \n",
              "                    window.PLOTLYENV=window.PLOTLYENV || {};\n",
              "                    \n",
              "                if (document.getElementById(\"9d33f037-125d-4046-8a64-6b93cefcfed1\")) {\n",
              "                    Plotly.newPlot(\n",
              "                        '9d33f037-125d-4046-8a64-6b93cefcfed1',\n",
              "                        [{\"cells\": {\"values\": [[\"Original Age\", \"Age of each patients increased by 20%\", \"Average age increased by 20%\"], [227.78514754384435, 260.84938277637207, 178.66237850100342]]}, \"header\": {\"values\": [\"Conditions\", \"Bed Requirements\"]}, \"type\": \"table\"}],\n",
              "                        {\"template\": {\"data\": {\"bar\": [{\"error_x\": {\"color\": \"#2a3f5f\"}, \"error_y\": {\"color\": \"#2a3f5f\"}, \"marker\": {\"line\": {\"color\": \"#E5ECF6\", \"width\": 0.5}}, \"type\": \"bar\"}], \"barpolar\": [{\"marker\": {\"line\": {\"color\": \"#E5ECF6\", \"width\": 0.5}}, \"type\": \"barpolar\"}], \"carpet\": [{\"aaxis\": {\"endlinecolor\": \"#2a3f5f\", \"gridcolor\": \"white\", \"linecolor\": \"white\", \"minorgridcolor\": \"white\", \"startlinecolor\": \"#2a3f5f\"}, \"baxis\": {\"endlinecolor\": \"#2a3f5f\", \"gridcolor\": \"white\", \"linecolor\": \"white\", \"minorgridcolor\": \"white\", \"startlinecolor\": \"#2a3f5f\"}, \"type\": \"carpet\"}], \"choropleth\": [{\"colorbar\": {\"outlinewidth\": 0, \"ticks\": \"\"}, \"type\": \"choropleth\"}], \"contour\": [{\"colorbar\": {\"outlinewidth\": 0, \"ticks\": \"\"}, \"colorscale\": [[0.0, \"#0d0887\"], [0.1111111111111111, \"#46039f\"], [0.2222222222222222, \"#7201a8\"], [0.3333333333333333, \"#9c179e\"], [0.4444444444444444, \"#bd3786\"], [0.5555555555555556, \"#d8576b\"], [0.6666666666666666, \"#ed7953\"], [0.7777777777777778, \"#fb9f3a\"], [0.8888888888888888, \"#fdca26\"], [1.0, \"#f0f921\"]], \"type\": \"contour\"}], \"contourcarpet\": [{\"colorbar\": {\"outlinewidth\": 0, \"ticks\": \"\"}, \"type\": \"contourcarpet\"}], \"heatmap\": [{\"colorbar\": {\"outlinewidth\": 0, \"ticks\": \"\"}, \"colorscale\": [[0.0, \"#0d0887\"], [0.1111111111111111, \"#46039f\"], [0.2222222222222222, \"#7201a8\"], [0.3333333333333333, \"#9c179e\"], [0.4444444444444444, \"#bd3786\"], [0.5555555555555556, \"#d8576b\"], [0.6666666666666666, \"#ed7953\"], [0.7777777777777778, \"#fb9f3a\"], [0.8888888888888888, \"#fdca26\"], [1.0, \"#f0f921\"]], \"type\": \"heatmap\"}], \"heatmapgl\": [{\"colorbar\": {\"outlinewidth\": 0, \"ticks\": \"\"}, \"colorscale\": [[0.0, \"#0d0887\"], [0.1111111111111111, \"#46039f\"], [0.2222222222222222, \"#7201a8\"], [0.3333333333333333, \"#9c179e\"], [0.4444444444444444, \"#bd3786\"], [0.5555555555555556, \"#d8576b\"], [0.6666666666666666, \"#ed7953\"], [0.7777777777777778, \"#fb9f3a\"], [0.8888888888888888, \"#fdca26\"], [1.0, \"#f0f921\"]], \"type\": \"heatmapgl\"}], \"histogram\": [{\"marker\": {\"colorbar\": {\"outlinewidth\": 0, \"ticks\": \"\"}}, \"type\": \"histogram\"}], \"histogram2d\": [{\"colorbar\": {\"outlinewidth\": 0, \"ticks\": \"\"}, \"colorscale\": [[0.0, \"#0d0887\"], [0.1111111111111111, \"#46039f\"], [0.2222222222222222, \"#7201a8\"], [0.3333333333333333, \"#9c179e\"], [0.4444444444444444, \"#bd3786\"], [0.5555555555555556, \"#d8576b\"], [0.6666666666666666, \"#ed7953\"], [0.7777777777777778, \"#fb9f3a\"], [0.8888888888888888, \"#fdca26\"], [1.0, \"#f0f921\"]], \"type\": \"histogram2d\"}], \"histogram2dcontour\": [{\"colorbar\": {\"outlinewidth\": 0, \"ticks\": \"\"}, \"colorscale\": [[0.0, \"#0d0887\"], [0.1111111111111111, \"#46039f\"], [0.2222222222222222, \"#7201a8\"], [0.3333333333333333, \"#9c179e\"], [0.4444444444444444, \"#bd3786\"], [0.5555555555555556, \"#d8576b\"], [0.6666666666666666, \"#ed7953\"], [0.7777777777777778, \"#fb9f3a\"], [0.8888888888888888, \"#fdca26\"], [1.0, \"#f0f921\"]], \"type\": \"histogram2dcontour\"}], \"mesh3d\": [{\"colorbar\": {\"outlinewidth\": 0, \"ticks\": \"\"}, \"type\": \"mesh3d\"}], \"parcoords\": [{\"line\": {\"colorbar\": {\"outlinewidth\": 0, \"ticks\": \"\"}}, \"type\": \"parcoords\"}], \"pie\": [{\"automargin\": true, \"type\": \"pie\"}], \"scatter\": [{\"marker\": {\"colorbar\": {\"outlinewidth\": 0, \"ticks\": \"\"}}, \"type\": \"scatter\"}], \"scatter3d\": [{\"line\": {\"colorbar\": {\"outlinewidth\": 0, \"ticks\": \"\"}}, \"marker\": {\"colorbar\": {\"outlinewidth\": 0, \"ticks\": \"\"}}, \"type\": \"scatter3d\"}], \"scattercarpet\": [{\"marker\": {\"colorbar\": {\"outlinewidth\": 0, \"ticks\": \"\"}}, \"type\": \"scattercarpet\"}], \"scattergeo\": [{\"marker\": {\"colorbar\": {\"outlinewidth\": 0, \"ticks\": \"\"}}, \"type\": \"scattergeo\"}], \"scattergl\": [{\"marker\": {\"colorbar\": {\"outlinewidth\": 0, \"ticks\": \"\"}}, \"type\": \"scattergl\"}], \"scattermapbox\": [{\"marker\": {\"colorbar\": {\"outlinewidth\": 0, \"ticks\": \"\"}}, \"type\": \"scattermapbox\"}], \"scatterpolar\": [{\"marker\": {\"colorbar\": {\"outlinewidth\": 0, \"ticks\": \"\"}}, \"type\": \"scatterpolar\"}], \"scatterpolargl\": [{\"marker\": {\"colorbar\": {\"outlinewidth\": 0, \"ticks\": \"\"}}, \"type\": \"scatterpolargl\"}], \"scatterternary\": [{\"marker\": {\"colorbar\": {\"outlinewidth\": 0, \"ticks\": \"\"}}, \"type\": \"scatterternary\"}], \"surface\": [{\"colorbar\": {\"outlinewidth\": 0, \"ticks\": \"\"}, \"colorscale\": [[0.0, \"#0d0887\"], [0.1111111111111111, \"#46039f\"], [0.2222222222222222, \"#7201a8\"], [0.3333333333333333, \"#9c179e\"], [0.4444444444444444, \"#bd3786\"], [0.5555555555555556, \"#d8576b\"], [0.6666666666666666, \"#ed7953\"], [0.7777777777777778, \"#fb9f3a\"], [0.8888888888888888, \"#fdca26\"], [1.0, \"#f0f921\"]], \"type\": \"surface\"}], \"table\": [{\"cells\": {\"fill\": {\"color\": \"#EBF0F8\"}, \"line\": {\"color\": \"white\"}}, \"header\": {\"fill\": {\"color\": \"#C8D4E3\"}, \"line\": {\"color\": \"white\"}}, \"type\": \"table\"}]}, \"layout\": {\"annotationdefaults\": {\"arrowcolor\": \"#2a3f5f\", \"arrowhead\": 0, \"arrowwidth\": 1}, \"coloraxis\": {\"colorbar\": {\"outlinewidth\": 0, \"ticks\": \"\"}}, \"colorscale\": {\"diverging\": [[0, \"#8e0152\"], [0.1, \"#c51b7d\"], [0.2, \"#de77ae\"], [0.3, \"#f1b6da\"], [0.4, \"#fde0ef\"], [0.5, \"#f7f7f7\"], [0.6, \"#e6f5d0\"], [0.7, \"#b8e186\"], [0.8, \"#7fbc41\"], [0.9, \"#4d9221\"], [1, \"#276419\"]], \"sequential\": [[0.0, \"#0d0887\"], [0.1111111111111111, \"#46039f\"], [0.2222222222222222, \"#7201a8\"], [0.3333333333333333, \"#9c179e\"], [0.4444444444444444, \"#bd3786\"], [0.5555555555555556, \"#d8576b\"], [0.6666666666666666, \"#ed7953\"], [0.7777777777777778, \"#fb9f3a\"], [0.8888888888888888, \"#fdca26\"], [1.0, \"#f0f921\"]], \"sequentialminus\": [[0.0, \"#0d0887\"], [0.1111111111111111, \"#46039f\"], [0.2222222222222222, \"#7201a8\"], [0.3333333333333333, \"#9c179e\"], [0.4444444444444444, \"#bd3786\"], [0.5555555555555556, \"#d8576b\"], [0.6666666666666666, \"#ed7953\"], [0.7777777777777778, \"#fb9f3a\"], [0.8888888888888888, \"#fdca26\"], [1.0, \"#f0f921\"]]}, \"colorway\": [\"#636efa\", \"#EF553B\", \"#00cc96\", \"#ab63fa\", \"#FFA15A\", \"#19d3f3\", \"#FF6692\", \"#B6E880\", \"#FF97FF\", \"#FECB52\"], \"font\": {\"color\": \"#2a3f5f\"}, \"geo\": {\"bgcolor\": \"white\", \"lakecolor\": \"white\", \"landcolor\": \"#E5ECF6\", \"showlakes\": true, \"showland\": true, \"subunitcolor\": \"white\"}, \"hoverlabel\": {\"align\": \"left\"}, \"hovermode\": \"closest\", \"mapbox\": {\"style\": \"light\"}, \"paper_bgcolor\": \"white\", \"plot_bgcolor\": \"#E5ECF6\", \"polar\": {\"angularaxis\": {\"gridcolor\": \"white\", \"linecolor\": \"white\", \"ticks\": \"\"}, \"bgcolor\": \"#E5ECF6\", \"radialaxis\": {\"gridcolor\": \"white\", \"linecolor\": \"white\", \"ticks\": \"\"}}, \"scene\": {\"xaxis\": {\"backgroundcolor\": \"#E5ECF6\", \"gridcolor\": \"white\", \"gridwidth\": 2, \"linecolor\": \"white\", \"showbackground\": true, \"ticks\": \"\", \"zerolinecolor\": \"white\"}, \"yaxis\": {\"backgroundcolor\": \"#E5ECF6\", \"gridcolor\": \"white\", \"gridwidth\": 2, \"linecolor\": \"white\", \"showbackground\": true, \"ticks\": \"\", \"zerolinecolor\": \"white\"}, \"zaxis\": {\"backgroundcolor\": \"#E5ECF6\", \"gridcolor\": \"white\", \"gridwidth\": 2, \"linecolor\": \"white\", \"showbackground\": true, \"ticks\": \"\", \"zerolinecolor\": \"white\"}}, \"shapedefaults\": {\"line\": {\"color\": \"#2a3f5f\"}}, \"ternary\": {\"aaxis\": {\"gridcolor\": \"white\", \"linecolor\": \"white\", \"ticks\": \"\"}, \"baxis\": {\"gridcolor\": \"white\", \"linecolor\": \"white\", \"ticks\": \"\"}, \"bgcolor\": \"#E5ECF6\", \"caxis\": {\"gridcolor\": \"white\", \"linecolor\": \"white\", \"ticks\": \"\"}}, \"title\": {\"x\": 0.05}, \"xaxis\": {\"automargin\": true, \"gridcolor\": \"white\", \"linecolor\": \"white\", \"ticks\": \"\", \"title\": {\"standoff\": 15}, \"zerolinecolor\": \"white\", \"zerolinewidth\": 2}, \"yaxis\": {\"automargin\": true, \"gridcolor\": \"white\", \"linecolor\": \"white\", \"ticks\": \"\", \"title\": {\"standoff\": 15}, \"zerolinecolor\": \"white\", \"zerolinewidth\": 2}}}},\n",
              "                        {\"responsive\": true}\n",
              "                    ).then(function(){\n",
              "                            \n",
              "var gd = document.getElementById('9d33f037-125d-4046-8a64-6b93cefcfed1');\n",
              "var x = new MutationObserver(function (mutations, observer) {{\n",
              "        var display = window.getComputedStyle(gd).display;\n",
              "        if (!display || display === 'none') {{\n",
              "            console.log([gd, 'removed!']);\n",
              "            Plotly.purge(gd);\n",
              "            observer.disconnect();\n",
              "        }}\n",
              "}});\n",
              "\n",
              "// Listen for the removal of the full notebook cells\n",
              "var notebookContainer = gd.closest('#notebook-container');\n",
              "if (notebookContainer) {{\n",
              "    x.observe(notebookContainer, {childList: true});\n",
              "}}\n",
              "\n",
              "// Listen for the clearing of the current output cell\n",
              "var outputEl = gd.closest('.output');\n",
              "if (outputEl) {{\n",
              "    x.observe(outputEl, {childList: true});\n",
              "}}\n",
              "\n",
              "                        })\n",
              "                };\n",
              "                \n",
              "            </script>\n",
              "        </div>\n",
              "</body>\n",
              "</html>"
            ]
          },
          "metadata": {
            "tags": []
          }
        }
      ]
    },
    {
      "cell_type": "code",
      "metadata": {
        "id": "rZnSuKbEVWwe"
      },
      "source": [
        ""
      ],
      "execution_count": null,
      "outputs": []
    },
    {
      "cell_type": "markdown",
      "metadata": {
        "id": "8omurNVe9E2m"
      },
      "source": [
        "# Number of Patient at a particular time and date \r\n",
        "Date = 30/10/2014 05:00:00\r\n",
        "+"
      ]
    },
    {
      "cell_type": "code",
      "metadata": {
        "colab": {
          "base_uri": "https://localhost:8080/"
        },
        "id": "rKqjlVXC7-Pj",
        "outputId": "f2757297-3659-4ade-bff5-fd65829384f6"
      },
      "source": [
        "admission = df[df['Admission date and time'] <= '2014-10-30 05:00:00'].count()\r\n",
        "print(admission['Admission date and time'])\r\n",
        "discharge = df[df['Discharge Date and Time'] <= '2014-10-30 05:00:00'].count()\r\n",
        "print(discharge['Discharge Date and Time'])\r\n",
        "\r\n",
        "patientInHospital = admission['Admission date and time'] - discharge['Discharge Date and Time']\r\n",
        "print(\"Number of Patients in Hospital at 30/10/2014 05:00:00 are\", patientInHospital)"
      ],
      "execution_count": null,
      "outputs": [
        {
          "output_type": "stream",
          "text": [
            "7883\n",
            "7818\n",
            "Number of Patients in Hospital at 30/10/2014 05:00:00 are 65\n"
          ],
          "name": "stdout"
        }
      ]
    },
    {
      "cell_type": "code",
      "metadata": {
        "colab": {
          "base_uri": "https://localhost:8080/",
          "height": 542
        },
        "id": "I69tO_Bj_pSn",
        "outputId": "f34fa8cb-2f8f-4db0-b8db-35901a0693fb"
      },
      "source": [
        "from collections import Counter\r\n",
        "import plotly.graph_objects as go\r\n",
        "\r\n",
        "admittedAgeGroup = df['ageGrp'][7818:7883]\r\n",
        "adl = Counter(admittedAgeGroup)\r\n",
        "# print(adl)\r\n",
        "\r\n",
        "fig = go.Figure(data=[go.Table(header=dict(values=['Age Group', 'Count']),\r\n",
        "                 cells=dict(values=[['Adult', 'Child'], [ adl['Adult'], adl['Child']]]))\r\n",
        "                     ])\r\n",
        "fig.show()"
      ],
      "execution_count": null,
      "outputs": [
        {
          "output_type": "display_data",
          "data": {
            "text/html": [
              "<html>\n",
              "<head><meta charset=\"utf-8\" /></head>\n",
              "<body>\n",
              "    <div>\n",
              "            <script src=\"https://cdnjs.cloudflare.com/ajax/libs/mathjax/2.7.5/MathJax.js?config=TeX-AMS-MML_SVG\"></script><script type=\"text/javascript\">if (window.MathJax) {MathJax.Hub.Config({SVG: {font: \"STIX-Web\"}});}</script>\n",
              "                <script type=\"text/javascript\">window.PlotlyConfig = {MathJaxConfig: 'local'};</script>\n",
              "        <script src=\"https://cdn.plot.ly/plotly-latest.min.js\"></script>    \n",
              "            <div id=\"5680d19d-1371-4661-9f0b-1fec470611a1\" class=\"plotly-graph-div\" style=\"height:525px; width:100%;\"></div>\n",
              "            <script type=\"text/javascript\">\n",
              "                \n",
              "                    window.PLOTLYENV=window.PLOTLYENV || {};\n",
              "                    \n",
              "                if (document.getElementById(\"5680d19d-1371-4661-9f0b-1fec470611a1\")) {\n",
              "                    Plotly.newPlot(\n",
              "                        '5680d19d-1371-4661-9f0b-1fec470611a1',\n",
              "                        [{\"cells\": {\"values\": [[\"Adult\", \"Child\"], [50, 15]]}, \"header\": {\"values\": [\"Age Group\", \"Count\"]}, \"type\": \"table\"}],\n",
              "                        {\"template\": {\"data\": {\"bar\": [{\"error_x\": {\"color\": \"#2a3f5f\"}, \"error_y\": {\"color\": \"#2a3f5f\"}, \"marker\": {\"line\": {\"color\": \"#E5ECF6\", \"width\": 0.5}}, \"type\": \"bar\"}], \"barpolar\": [{\"marker\": {\"line\": {\"color\": \"#E5ECF6\", \"width\": 0.5}}, \"type\": \"barpolar\"}], \"carpet\": [{\"aaxis\": {\"endlinecolor\": \"#2a3f5f\", \"gridcolor\": \"white\", \"linecolor\": \"white\", \"minorgridcolor\": \"white\", \"startlinecolor\": \"#2a3f5f\"}, \"baxis\": {\"endlinecolor\": \"#2a3f5f\", \"gridcolor\": \"white\", \"linecolor\": \"white\", \"minorgridcolor\": \"white\", \"startlinecolor\": \"#2a3f5f\"}, \"type\": \"carpet\"}], \"choropleth\": [{\"colorbar\": {\"outlinewidth\": 0, \"ticks\": \"\"}, \"type\": \"choropleth\"}], \"contour\": [{\"colorbar\": {\"outlinewidth\": 0, \"ticks\": \"\"}, \"colorscale\": [[0.0, \"#0d0887\"], [0.1111111111111111, \"#46039f\"], [0.2222222222222222, \"#7201a8\"], [0.3333333333333333, \"#9c179e\"], [0.4444444444444444, \"#bd3786\"], [0.5555555555555556, \"#d8576b\"], [0.6666666666666666, \"#ed7953\"], [0.7777777777777778, \"#fb9f3a\"], [0.8888888888888888, \"#fdca26\"], [1.0, \"#f0f921\"]], \"type\": \"contour\"}], \"contourcarpet\": [{\"colorbar\": {\"outlinewidth\": 0, \"ticks\": \"\"}, \"type\": \"contourcarpet\"}], \"heatmap\": [{\"colorbar\": {\"outlinewidth\": 0, \"ticks\": \"\"}, \"colorscale\": [[0.0, \"#0d0887\"], [0.1111111111111111, \"#46039f\"], [0.2222222222222222, \"#7201a8\"], [0.3333333333333333, \"#9c179e\"], [0.4444444444444444, \"#bd3786\"], [0.5555555555555556, \"#d8576b\"], [0.6666666666666666, \"#ed7953\"], [0.7777777777777778, \"#fb9f3a\"], [0.8888888888888888, \"#fdca26\"], [1.0, \"#f0f921\"]], \"type\": \"heatmap\"}], \"heatmapgl\": [{\"colorbar\": {\"outlinewidth\": 0, \"ticks\": \"\"}, \"colorscale\": [[0.0, \"#0d0887\"], [0.1111111111111111, \"#46039f\"], [0.2222222222222222, \"#7201a8\"], [0.3333333333333333, \"#9c179e\"], [0.4444444444444444, \"#bd3786\"], [0.5555555555555556, \"#d8576b\"], [0.6666666666666666, \"#ed7953\"], [0.7777777777777778, \"#fb9f3a\"], [0.8888888888888888, \"#fdca26\"], [1.0, \"#f0f921\"]], \"type\": \"heatmapgl\"}], \"histogram\": [{\"marker\": {\"colorbar\": {\"outlinewidth\": 0, \"ticks\": \"\"}}, \"type\": \"histogram\"}], \"histogram2d\": [{\"colorbar\": {\"outlinewidth\": 0, \"ticks\": \"\"}, \"colorscale\": [[0.0, \"#0d0887\"], [0.1111111111111111, \"#46039f\"], [0.2222222222222222, \"#7201a8\"], [0.3333333333333333, \"#9c179e\"], [0.4444444444444444, \"#bd3786\"], [0.5555555555555556, \"#d8576b\"], [0.6666666666666666, \"#ed7953\"], [0.7777777777777778, \"#fb9f3a\"], [0.8888888888888888, \"#fdca26\"], [1.0, \"#f0f921\"]], \"type\": \"histogram2d\"}], \"histogram2dcontour\": [{\"colorbar\": {\"outlinewidth\": 0, \"ticks\": \"\"}, \"colorscale\": [[0.0, \"#0d0887\"], [0.1111111111111111, \"#46039f\"], [0.2222222222222222, \"#7201a8\"], [0.3333333333333333, \"#9c179e\"], [0.4444444444444444, \"#bd3786\"], [0.5555555555555556, \"#d8576b\"], [0.6666666666666666, \"#ed7953\"], [0.7777777777777778, \"#fb9f3a\"], [0.8888888888888888, \"#fdca26\"], [1.0, \"#f0f921\"]], \"type\": \"histogram2dcontour\"}], \"mesh3d\": [{\"colorbar\": {\"outlinewidth\": 0, \"ticks\": \"\"}, \"type\": \"mesh3d\"}], \"parcoords\": [{\"line\": {\"colorbar\": {\"outlinewidth\": 0, \"ticks\": \"\"}}, \"type\": \"parcoords\"}], \"pie\": [{\"automargin\": true, \"type\": \"pie\"}], \"scatter\": [{\"marker\": {\"colorbar\": {\"outlinewidth\": 0, \"ticks\": \"\"}}, \"type\": \"scatter\"}], \"scatter3d\": [{\"line\": {\"colorbar\": {\"outlinewidth\": 0, \"ticks\": \"\"}}, \"marker\": {\"colorbar\": {\"outlinewidth\": 0, \"ticks\": \"\"}}, \"type\": \"scatter3d\"}], \"scattercarpet\": [{\"marker\": {\"colorbar\": {\"outlinewidth\": 0, \"ticks\": \"\"}}, \"type\": \"scattercarpet\"}], \"scattergeo\": [{\"marker\": {\"colorbar\": {\"outlinewidth\": 0, \"ticks\": \"\"}}, \"type\": \"scattergeo\"}], \"scattergl\": [{\"marker\": {\"colorbar\": {\"outlinewidth\": 0, \"ticks\": \"\"}}, \"type\": \"scattergl\"}], \"scattermapbox\": [{\"marker\": {\"colorbar\": {\"outlinewidth\": 0, \"ticks\": \"\"}}, \"type\": \"scattermapbox\"}], \"scatterpolar\": [{\"marker\": {\"colorbar\": {\"outlinewidth\": 0, \"ticks\": \"\"}}, \"type\": \"scatterpolar\"}], \"scatterpolargl\": [{\"marker\": {\"colorbar\": {\"outlinewidth\": 0, \"ticks\": \"\"}}, \"type\": \"scatterpolargl\"}], \"scatterternary\": [{\"marker\": {\"colorbar\": {\"outlinewidth\": 0, \"ticks\": \"\"}}, \"type\": \"scatterternary\"}], \"surface\": [{\"colorbar\": {\"outlinewidth\": 0, \"ticks\": \"\"}, \"colorscale\": [[0.0, \"#0d0887\"], [0.1111111111111111, \"#46039f\"], [0.2222222222222222, \"#7201a8\"], [0.3333333333333333, \"#9c179e\"], [0.4444444444444444, \"#bd3786\"], [0.5555555555555556, \"#d8576b\"], [0.6666666666666666, \"#ed7953\"], [0.7777777777777778, \"#fb9f3a\"], [0.8888888888888888, \"#fdca26\"], [1.0, \"#f0f921\"]], \"type\": \"surface\"}], \"table\": [{\"cells\": {\"fill\": {\"color\": \"#EBF0F8\"}, \"line\": {\"color\": \"white\"}}, \"header\": {\"fill\": {\"color\": \"#C8D4E3\"}, \"line\": {\"color\": \"white\"}}, \"type\": \"table\"}]}, \"layout\": {\"annotationdefaults\": {\"arrowcolor\": \"#2a3f5f\", \"arrowhead\": 0, \"arrowwidth\": 1}, \"coloraxis\": {\"colorbar\": {\"outlinewidth\": 0, \"ticks\": \"\"}}, \"colorscale\": {\"diverging\": [[0, \"#8e0152\"], [0.1, \"#c51b7d\"], [0.2, \"#de77ae\"], [0.3, \"#f1b6da\"], [0.4, \"#fde0ef\"], [0.5, \"#f7f7f7\"], [0.6, \"#e6f5d0\"], [0.7, \"#b8e186\"], [0.8, \"#7fbc41\"], [0.9, \"#4d9221\"], [1, \"#276419\"]], \"sequential\": [[0.0, \"#0d0887\"], [0.1111111111111111, \"#46039f\"], [0.2222222222222222, \"#7201a8\"], [0.3333333333333333, \"#9c179e\"], [0.4444444444444444, \"#bd3786\"], [0.5555555555555556, \"#d8576b\"], [0.6666666666666666, \"#ed7953\"], [0.7777777777777778, \"#fb9f3a\"], [0.8888888888888888, \"#fdca26\"], [1.0, \"#f0f921\"]], \"sequentialminus\": [[0.0, \"#0d0887\"], [0.1111111111111111, \"#46039f\"], [0.2222222222222222, \"#7201a8\"], [0.3333333333333333, \"#9c179e\"], [0.4444444444444444, \"#bd3786\"], [0.5555555555555556, \"#d8576b\"], [0.6666666666666666, \"#ed7953\"], [0.7777777777777778, \"#fb9f3a\"], [0.8888888888888888, \"#fdca26\"], [1.0, \"#f0f921\"]]}, \"colorway\": [\"#636efa\", \"#EF553B\", \"#00cc96\", \"#ab63fa\", \"#FFA15A\", \"#19d3f3\", \"#FF6692\", \"#B6E880\", \"#FF97FF\", \"#FECB52\"], \"font\": {\"color\": \"#2a3f5f\"}, \"geo\": {\"bgcolor\": \"white\", \"lakecolor\": \"white\", \"landcolor\": \"#E5ECF6\", \"showlakes\": true, \"showland\": true, \"subunitcolor\": \"white\"}, \"hoverlabel\": {\"align\": \"left\"}, \"hovermode\": \"closest\", \"mapbox\": {\"style\": \"light\"}, \"paper_bgcolor\": \"white\", \"plot_bgcolor\": \"#E5ECF6\", \"polar\": {\"angularaxis\": {\"gridcolor\": \"white\", \"linecolor\": \"white\", \"ticks\": \"\"}, \"bgcolor\": \"#E5ECF6\", \"radialaxis\": {\"gridcolor\": \"white\", \"linecolor\": \"white\", \"ticks\": \"\"}}, \"scene\": {\"xaxis\": {\"backgroundcolor\": \"#E5ECF6\", \"gridcolor\": \"white\", \"gridwidth\": 2, \"linecolor\": \"white\", \"showbackground\": true, \"ticks\": \"\", \"zerolinecolor\": \"white\"}, \"yaxis\": {\"backgroundcolor\": \"#E5ECF6\", \"gridcolor\": \"white\", \"gridwidth\": 2, \"linecolor\": \"white\", \"showbackground\": true, \"ticks\": \"\", \"zerolinecolor\": \"white\"}, \"zaxis\": {\"backgroundcolor\": \"#E5ECF6\", \"gridcolor\": \"white\", \"gridwidth\": 2, \"linecolor\": \"white\", \"showbackground\": true, \"ticks\": \"\", \"zerolinecolor\": \"white\"}}, \"shapedefaults\": {\"line\": {\"color\": \"#2a3f5f\"}}, \"ternary\": {\"aaxis\": {\"gridcolor\": \"white\", \"linecolor\": \"white\", \"ticks\": \"\"}, \"baxis\": {\"gridcolor\": \"white\", \"linecolor\": \"white\", \"ticks\": \"\"}, \"bgcolor\": \"#E5ECF6\", \"caxis\": {\"gridcolor\": \"white\", \"linecolor\": \"white\", \"ticks\": \"\"}}, \"title\": {\"x\": 0.05}, \"xaxis\": {\"automargin\": true, \"gridcolor\": \"white\", \"linecolor\": \"white\", \"ticks\": \"\", \"title\": {\"standoff\": 15}, \"zerolinecolor\": \"white\", \"zerolinewidth\": 2}, \"yaxis\": {\"automargin\": true, \"gridcolor\": \"white\", \"linecolor\": \"white\", \"ticks\": \"\", \"title\": {\"standoff\": 15}, \"zerolinecolor\": \"white\", \"zerolinewidth\": 2}}}},\n",
              "                        {\"responsive\": true}\n",
              "                    ).then(function(){\n",
              "                            \n",
              "var gd = document.getElementById('5680d19d-1371-4661-9f0b-1fec470611a1');\n",
              "var x = new MutationObserver(function (mutations, observer) {{\n",
              "        var display = window.getComputedStyle(gd).display;\n",
              "        if (!display || display === 'none') {{\n",
              "            console.log([gd, 'removed!']);\n",
              "            Plotly.purge(gd);\n",
              "            observer.disconnect();\n",
              "        }}\n",
              "}});\n",
              "\n",
              "// Listen for the removal of the full notebook cells\n",
              "var notebookContainer = gd.closest('#notebook-container');\n",
              "if (notebookContainer) {{\n",
              "    x.observe(notebookContainer, {childList: true});\n",
              "}}\n",
              "\n",
              "// Listen for the clearing of the current output cell\n",
              "var outputEl = gd.closest('.output');\n",
              "if (outputEl) {{\n",
              "    x.observe(outputEl, {childList: true});\n",
              "}}\n",
              "\n",
              "                        })\n",
              "                };\n",
              "                \n",
              "            </script>\n",
              "        </div>\n",
              "</body>\n",
              "</html>"
            ]
          },
          "metadata": {
            "tags": []
          }
        }
      ]
    },
    {
      "cell_type": "code",
      "metadata": {
        "colab": {
          "base_uri": "https://localhost:8080/",
          "height": 542
        },
        "id": "AOqm3ZV0CC6u",
        "outputId": "42a6534b-2511-4f05-a615-d127576392dd"
      },
      "source": [
        "admittedSpeciality = df['Specialty'][7818:7883] \r\n",
        "spl = Counter(admittedSpeciality)\r\n",
        "# print(Counter(admittedSpeciality))\r\n",
        "\r\n",
        "fig = go.Figure(data=[go.Table(header=dict(values=['Specialty', 'Count']),\r\n",
        "                 cells=dict(values=[['Adult Urology', 'Paediatric Surgery', 'Adult Cardiology','Adult Neurology','Adult ENT','Adult Stroke','Paediatric Endocrinology'], [ spl['Adult Urology'], spl['Paediatric Surgery'], spl['Adult Cardiology'], spl['Adult Neurology'], spl['Adult ENT'], spl['Adult Stroke'], spl['Paediatric Endocrinology']]]))\r\n",
        "                     ])\r\n",
        "fig.show()"
      ],
      "execution_count": null,
      "outputs": [
        {
          "output_type": "display_data",
          "data": {
            "text/html": [
              "<html>\n",
              "<head><meta charset=\"utf-8\" /></head>\n",
              "<body>\n",
              "    <div>\n",
              "            <script src=\"https://cdnjs.cloudflare.com/ajax/libs/mathjax/2.7.5/MathJax.js?config=TeX-AMS-MML_SVG\"></script><script type=\"text/javascript\">if (window.MathJax) {MathJax.Hub.Config({SVG: {font: \"STIX-Web\"}});}</script>\n",
              "                <script type=\"text/javascript\">window.PlotlyConfig = {MathJaxConfig: 'local'};</script>\n",
              "        <script src=\"https://cdn.plot.ly/plotly-latest.min.js\"></script>    \n",
              "            <div id=\"92b67114-ed87-4c8c-93bd-859af6929229\" class=\"plotly-graph-div\" style=\"height:525px; width:100%;\"></div>\n",
              "            <script type=\"text/javascript\">\n",
              "                \n",
              "                    window.PLOTLYENV=window.PLOTLYENV || {};\n",
              "                    \n",
              "                if (document.getElementById(\"92b67114-ed87-4c8c-93bd-859af6929229\")) {\n",
              "                    Plotly.newPlot(\n",
              "                        '92b67114-ed87-4c8c-93bd-859af6929229',\n",
              "                        [{\"cells\": {\"values\": [[\"Adult Urology\", \"Paediatric Surgery\", \"Adult Cardiology\", \"Adult Neurology\", \"Adult ENT\", \"Adult Stroke\", \"Paediatric Endocrinology\"], [27, 14, 13, 4, 3, 3, 1]]}, \"header\": {\"values\": [\"Specialty\", \"Count\"]}, \"type\": \"table\"}],\n",
              "                        {\"template\": {\"data\": {\"bar\": [{\"error_x\": {\"color\": \"#2a3f5f\"}, \"error_y\": {\"color\": \"#2a3f5f\"}, \"marker\": {\"line\": {\"color\": \"#E5ECF6\", \"width\": 0.5}}, \"type\": \"bar\"}], \"barpolar\": [{\"marker\": {\"line\": {\"color\": \"#E5ECF6\", \"width\": 0.5}}, \"type\": \"barpolar\"}], \"carpet\": [{\"aaxis\": {\"endlinecolor\": \"#2a3f5f\", \"gridcolor\": \"white\", \"linecolor\": \"white\", \"minorgridcolor\": \"white\", \"startlinecolor\": \"#2a3f5f\"}, \"baxis\": {\"endlinecolor\": \"#2a3f5f\", \"gridcolor\": \"white\", \"linecolor\": \"white\", \"minorgridcolor\": \"white\", \"startlinecolor\": \"#2a3f5f\"}, \"type\": \"carpet\"}], \"choropleth\": [{\"colorbar\": {\"outlinewidth\": 0, \"ticks\": \"\"}, \"type\": \"choropleth\"}], \"contour\": [{\"colorbar\": {\"outlinewidth\": 0, \"ticks\": \"\"}, \"colorscale\": [[0.0, \"#0d0887\"], [0.1111111111111111, \"#46039f\"], [0.2222222222222222, \"#7201a8\"], [0.3333333333333333, \"#9c179e\"], [0.4444444444444444, \"#bd3786\"], [0.5555555555555556, \"#d8576b\"], [0.6666666666666666, \"#ed7953\"], [0.7777777777777778, \"#fb9f3a\"], [0.8888888888888888, \"#fdca26\"], [1.0, \"#f0f921\"]], \"type\": \"contour\"}], \"contourcarpet\": [{\"colorbar\": {\"outlinewidth\": 0, \"ticks\": \"\"}, \"type\": \"contourcarpet\"}], \"heatmap\": [{\"colorbar\": {\"outlinewidth\": 0, \"ticks\": \"\"}, \"colorscale\": [[0.0, \"#0d0887\"], [0.1111111111111111, \"#46039f\"], [0.2222222222222222, \"#7201a8\"], [0.3333333333333333, \"#9c179e\"], [0.4444444444444444, \"#bd3786\"], [0.5555555555555556, \"#d8576b\"], [0.6666666666666666, \"#ed7953\"], [0.7777777777777778, \"#fb9f3a\"], [0.8888888888888888, \"#fdca26\"], [1.0, \"#f0f921\"]], \"type\": \"heatmap\"}], \"heatmapgl\": [{\"colorbar\": {\"outlinewidth\": 0, \"ticks\": \"\"}, \"colorscale\": [[0.0, \"#0d0887\"], [0.1111111111111111, \"#46039f\"], [0.2222222222222222, \"#7201a8\"], [0.3333333333333333, \"#9c179e\"], [0.4444444444444444, \"#bd3786\"], [0.5555555555555556, \"#d8576b\"], [0.6666666666666666, \"#ed7953\"], [0.7777777777777778, \"#fb9f3a\"], [0.8888888888888888, \"#fdca26\"], [1.0, \"#f0f921\"]], \"type\": \"heatmapgl\"}], \"histogram\": [{\"marker\": {\"colorbar\": {\"outlinewidth\": 0, \"ticks\": \"\"}}, \"type\": \"histogram\"}], \"histogram2d\": [{\"colorbar\": {\"outlinewidth\": 0, \"ticks\": \"\"}, \"colorscale\": [[0.0, \"#0d0887\"], [0.1111111111111111, \"#46039f\"], [0.2222222222222222, \"#7201a8\"], [0.3333333333333333, \"#9c179e\"], [0.4444444444444444, \"#bd3786\"], [0.5555555555555556, \"#d8576b\"], [0.6666666666666666, \"#ed7953\"], [0.7777777777777778, \"#fb9f3a\"], [0.8888888888888888, \"#fdca26\"], [1.0, \"#f0f921\"]], \"type\": \"histogram2d\"}], \"histogram2dcontour\": [{\"colorbar\": {\"outlinewidth\": 0, \"ticks\": \"\"}, \"colorscale\": [[0.0, \"#0d0887\"], [0.1111111111111111, \"#46039f\"], [0.2222222222222222, \"#7201a8\"], [0.3333333333333333, \"#9c179e\"], [0.4444444444444444, \"#bd3786\"], [0.5555555555555556, \"#d8576b\"], [0.6666666666666666, \"#ed7953\"], [0.7777777777777778, \"#fb9f3a\"], [0.8888888888888888, \"#fdca26\"], [1.0, \"#f0f921\"]], \"type\": \"histogram2dcontour\"}], \"mesh3d\": [{\"colorbar\": {\"outlinewidth\": 0, \"ticks\": \"\"}, \"type\": \"mesh3d\"}], \"parcoords\": [{\"line\": {\"colorbar\": {\"outlinewidth\": 0, \"ticks\": \"\"}}, \"type\": \"parcoords\"}], \"pie\": [{\"automargin\": true, \"type\": \"pie\"}], \"scatter\": [{\"marker\": {\"colorbar\": {\"outlinewidth\": 0, \"ticks\": \"\"}}, \"type\": \"scatter\"}], \"scatter3d\": [{\"line\": {\"colorbar\": {\"outlinewidth\": 0, \"ticks\": \"\"}}, \"marker\": {\"colorbar\": {\"outlinewidth\": 0, \"ticks\": \"\"}}, \"type\": \"scatter3d\"}], \"scattercarpet\": [{\"marker\": {\"colorbar\": {\"outlinewidth\": 0, \"ticks\": \"\"}}, \"type\": \"scattercarpet\"}], \"scattergeo\": [{\"marker\": {\"colorbar\": {\"outlinewidth\": 0, \"ticks\": \"\"}}, \"type\": \"scattergeo\"}], \"scattergl\": [{\"marker\": {\"colorbar\": {\"outlinewidth\": 0, \"ticks\": \"\"}}, \"type\": \"scattergl\"}], \"scattermapbox\": [{\"marker\": {\"colorbar\": {\"outlinewidth\": 0, \"ticks\": \"\"}}, \"type\": \"scattermapbox\"}], \"scatterpolar\": [{\"marker\": {\"colorbar\": {\"outlinewidth\": 0, \"ticks\": \"\"}}, \"type\": \"scatterpolar\"}], \"scatterpolargl\": [{\"marker\": {\"colorbar\": {\"outlinewidth\": 0, \"ticks\": \"\"}}, \"type\": \"scatterpolargl\"}], \"scatterternary\": [{\"marker\": {\"colorbar\": {\"outlinewidth\": 0, \"ticks\": \"\"}}, \"type\": \"scatterternary\"}], \"surface\": [{\"colorbar\": {\"outlinewidth\": 0, \"ticks\": \"\"}, \"colorscale\": [[0.0, \"#0d0887\"], [0.1111111111111111, \"#46039f\"], [0.2222222222222222, \"#7201a8\"], [0.3333333333333333, \"#9c179e\"], [0.4444444444444444, \"#bd3786\"], [0.5555555555555556, \"#d8576b\"], [0.6666666666666666, \"#ed7953\"], [0.7777777777777778, \"#fb9f3a\"], [0.8888888888888888, \"#fdca26\"], [1.0, \"#f0f921\"]], \"type\": \"surface\"}], \"table\": [{\"cells\": {\"fill\": {\"color\": \"#EBF0F8\"}, \"line\": {\"color\": \"white\"}}, \"header\": {\"fill\": {\"color\": \"#C8D4E3\"}, \"line\": {\"color\": \"white\"}}, \"type\": \"table\"}]}, \"layout\": {\"annotationdefaults\": {\"arrowcolor\": \"#2a3f5f\", \"arrowhead\": 0, \"arrowwidth\": 1}, \"coloraxis\": {\"colorbar\": {\"outlinewidth\": 0, \"ticks\": \"\"}}, \"colorscale\": {\"diverging\": [[0, \"#8e0152\"], [0.1, \"#c51b7d\"], [0.2, \"#de77ae\"], [0.3, \"#f1b6da\"], [0.4, \"#fde0ef\"], [0.5, \"#f7f7f7\"], [0.6, \"#e6f5d0\"], [0.7, \"#b8e186\"], [0.8, \"#7fbc41\"], [0.9, \"#4d9221\"], [1, \"#276419\"]], \"sequential\": [[0.0, \"#0d0887\"], [0.1111111111111111, \"#46039f\"], [0.2222222222222222, \"#7201a8\"], [0.3333333333333333, \"#9c179e\"], [0.4444444444444444, \"#bd3786\"], [0.5555555555555556, \"#d8576b\"], [0.6666666666666666, \"#ed7953\"], [0.7777777777777778, \"#fb9f3a\"], [0.8888888888888888, \"#fdca26\"], [1.0, \"#f0f921\"]], \"sequentialminus\": [[0.0, \"#0d0887\"], [0.1111111111111111, \"#46039f\"], [0.2222222222222222, \"#7201a8\"], [0.3333333333333333, \"#9c179e\"], [0.4444444444444444, \"#bd3786\"], [0.5555555555555556, \"#d8576b\"], [0.6666666666666666, \"#ed7953\"], [0.7777777777777778, \"#fb9f3a\"], [0.8888888888888888, \"#fdca26\"], [1.0, \"#f0f921\"]]}, \"colorway\": [\"#636efa\", \"#EF553B\", \"#00cc96\", \"#ab63fa\", \"#FFA15A\", \"#19d3f3\", \"#FF6692\", \"#B6E880\", \"#FF97FF\", \"#FECB52\"], \"font\": {\"color\": \"#2a3f5f\"}, \"geo\": {\"bgcolor\": \"white\", \"lakecolor\": \"white\", \"landcolor\": \"#E5ECF6\", \"showlakes\": true, \"showland\": true, \"subunitcolor\": \"white\"}, \"hoverlabel\": {\"align\": \"left\"}, \"hovermode\": \"closest\", \"mapbox\": {\"style\": \"light\"}, \"paper_bgcolor\": \"white\", \"plot_bgcolor\": \"#E5ECF6\", \"polar\": {\"angularaxis\": {\"gridcolor\": \"white\", \"linecolor\": \"white\", \"ticks\": \"\"}, \"bgcolor\": \"#E5ECF6\", \"radialaxis\": {\"gridcolor\": \"white\", \"linecolor\": \"white\", \"ticks\": \"\"}}, \"scene\": {\"xaxis\": {\"backgroundcolor\": \"#E5ECF6\", \"gridcolor\": \"white\", \"gridwidth\": 2, \"linecolor\": \"white\", \"showbackground\": true, \"ticks\": \"\", \"zerolinecolor\": \"white\"}, \"yaxis\": {\"backgroundcolor\": \"#E5ECF6\", \"gridcolor\": \"white\", \"gridwidth\": 2, \"linecolor\": \"white\", \"showbackground\": true, \"ticks\": \"\", \"zerolinecolor\": \"white\"}, \"zaxis\": {\"backgroundcolor\": \"#E5ECF6\", \"gridcolor\": \"white\", \"gridwidth\": 2, \"linecolor\": \"white\", \"showbackground\": true, \"ticks\": \"\", \"zerolinecolor\": \"white\"}}, \"shapedefaults\": {\"line\": {\"color\": \"#2a3f5f\"}}, \"ternary\": {\"aaxis\": {\"gridcolor\": \"white\", \"linecolor\": \"white\", \"ticks\": \"\"}, \"baxis\": {\"gridcolor\": \"white\", \"linecolor\": \"white\", \"ticks\": \"\"}, \"bgcolor\": \"#E5ECF6\", \"caxis\": {\"gridcolor\": \"white\", \"linecolor\": \"white\", \"ticks\": \"\"}}, \"title\": {\"x\": 0.05}, \"xaxis\": {\"automargin\": true, \"gridcolor\": \"white\", \"linecolor\": \"white\", \"ticks\": \"\", \"title\": {\"standoff\": 15}, \"zerolinecolor\": \"white\", \"zerolinewidth\": 2}, \"yaxis\": {\"automargin\": true, \"gridcolor\": \"white\", \"linecolor\": \"white\", \"ticks\": \"\", \"title\": {\"standoff\": 15}, \"zerolinecolor\": \"white\", \"zerolinewidth\": 2}}}},\n",
              "                        {\"responsive\": true}\n",
              "                    ).then(function(){\n",
              "                            \n",
              "var gd = document.getElementById('92b67114-ed87-4c8c-93bd-859af6929229');\n",
              "var x = new MutationObserver(function (mutations, observer) {{\n",
              "        var display = window.getComputedStyle(gd).display;\n",
              "        if (!display || display === 'none') {{\n",
              "            console.log([gd, 'removed!']);\n",
              "            Plotly.purge(gd);\n",
              "            observer.disconnect();\n",
              "        }}\n",
              "}});\n",
              "\n",
              "// Listen for the removal of the full notebook cells\n",
              "var notebookContainer = gd.closest('#notebook-container');\n",
              "if (notebookContainer) {{\n",
              "    x.observe(notebookContainer, {childList: true});\n",
              "}}\n",
              "\n",
              "// Listen for the clearing of the current output cell\n",
              "var outputEl = gd.closest('.output');\n",
              "if (outputEl) {{\n",
              "    x.observe(outputEl, {childList: true});\n",
              "}}\n",
              "\n",
              "                        })\n",
              "                };\n",
              "                \n",
              "            </script>\n",
              "        </div>\n",
              "</body>\n",
              "</html>"
            ]
          },
          "metadata": {
            "tags": []
          }
        }
      ]
    },
    {
      "cell_type": "code",
      "metadata": {
        "colab": {
          "base_uri": "https://localhost:8080/",
          "height": 542
        },
        "id": "a7Lx00znCk7f",
        "outputId": "2ef5a5f2-6bb4-41d8-f902-9e9472e378bc"
      },
      "source": [
        "admittedCategory = df['Admission Category'][7818:7883] \r\n",
        "cat = Counter(admittedCategory)\r\n",
        "# print(Counter(admittedCategory))\r\n",
        "\r\n",
        "fig = go.Figure(data=[go.Table(header=dict(values=['Category', 'Count']),\r\n",
        "                 cells=dict(values=[['Public Patient', 'Private Patient'], [ cat['Public Patient'], cat['Private Patient']]]))\r\n",
        "                     ])\r\n",
        "fig.show()"
      ],
      "execution_count": null,
      "outputs": [
        {
          "output_type": "display_data",
          "data": {
            "text/html": [
              "<html>\n",
              "<head><meta charset=\"utf-8\" /></head>\n",
              "<body>\n",
              "    <div>\n",
              "            <script src=\"https://cdnjs.cloudflare.com/ajax/libs/mathjax/2.7.5/MathJax.js?config=TeX-AMS-MML_SVG\"></script><script type=\"text/javascript\">if (window.MathJax) {MathJax.Hub.Config({SVG: {font: \"STIX-Web\"}});}</script>\n",
              "                <script type=\"text/javascript\">window.PlotlyConfig = {MathJaxConfig: 'local'};</script>\n",
              "        <script src=\"https://cdn.plot.ly/plotly-latest.min.js\"></script>    \n",
              "            <div id=\"79643b24-4d2a-469f-af0f-73e7b4b30eda\" class=\"plotly-graph-div\" style=\"height:525px; width:100%;\"></div>\n",
              "            <script type=\"text/javascript\">\n",
              "                \n",
              "                    window.PLOTLYENV=window.PLOTLYENV || {};\n",
              "                    \n",
              "                if (document.getElementById(\"79643b24-4d2a-469f-af0f-73e7b4b30eda\")) {\n",
              "                    Plotly.newPlot(\n",
              "                        '79643b24-4d2a-469f-af0f-73e7b4b30eda',\n",
              "                        [{\"cells\": {\"values\": [[\"Public Patient\", \"Private Patient\"], [47, 18]]}, \"header\": {\"values\": [\"Category\", \"Count\"]}, \"type\": \"table\"}],\n",
              "                        {\"template\": {\"data\": {\"bar\": [{\"error_x\": {\"color\": \"#2a3f5f\"}, \"error_y\": {\"color\": \"#2a3f5f\"}, \"marker\": {\"line\": {\"color\": \"#E5ECF6\", \"width\": 0.5}}, \"type\": \"bar\"}], \"barpolar\": [{\"marker\": {\"line\": {\"color\": \"#E5ECF6\", \"width\": 0.5}}, \"type\": \"barpolar\"}], \"carpet\": [{\"aaxis\": {\"endlinecolor\": \"#2a3f5f\", \"gridcolor\": \"white\", \"linecolor\": \"white\", \"minorgridcolor\": \"white\", \"startlinecolor\": \"#2a3f5f\"}, \"baxis\": {\"endlinecolor\": \"#2a3f5f\", \"gridcolor\": \"white\", \"linecolor\": \"white\", \"minorgridcolor\": \"white\", \"startlinecolor\": \"#2a3f5f\"}, \"type\": \"carpet\"}], \"choropleth\": [{\"colorbar\": {\"outlinewidth\": 0, \"ticks\": \"\"}, \"type\": \"choropleth\"}], \"contour\": [{\"colorbar\": {\"outlinewidth\": 0, \"ticks\": \"\"}, \"colorscale\": [[0.0, \"#0d0887\"], [0.1111111111111111, \"#46039f\"], [0.2222222222222222, \"#7201a8\"], [0.3333333333333333, \"#9c179e\"], [0.4444444444444444, \"#bd3786\"], [0.5555555555555556, \"#d8576b\"], [0.6666666666666666, \"#ed7953\"], [0.7777777777777778, \"#fb9f3a\"], [0.8888888888888888, \"#fdca26\"], [1.0, \"#f0f921\"]], \"type\": \"contour\"}], \"contourcarpet\": [{\"colorbar\": {\"outlinewidth\": 0, \"ticks\": \"\"}, \"type\": \"contourcarpet\"}], \"heatmap\": [{\"colorbar\": {\"outlinewidth\": 0, \"ticks\": \"\"}, \"colorscale\": [[0.0, \"#0d0887\"], [0.1111111111111111, \"#46039f\"], [0.2222222222222222, \"#7201a8\"], [0.3333333333333333, \"#9c179e\"], [0.4444444444444444, \"#bd3786\"], [0.5555555555555556, \"#d8576b\"], [0.6666666666666666, \"#ed7953\"], [0.7777777777777778, \"#fb9f3a\"], [0.8888888888888888, \"#fdca26\"], [1.0, \"#f0f921\"]], \"type\": \"heatmap\"}], \"heatmapgl\": [{\"colorbar\": {\"outlinewidth\": 0, \"ticks\": \"\"}, \"colorscale\": [[0.0, \"#0d0887\"], [0.1111111111111111, \"#46039f\"], [0.2222222222222222, \"#7201a8\"], [0.3333333333333333, \"#9c179e\"], [0.4444444444444444, \"#bd3786\"], [0.5555555555555556, \"#d8576b\"], [0.6666666666666666, \"#ed7953\"], [0.7777777777777778, \"#fb9f3a\"], [0.8888888888888888, \"#fdca26\"], [1.0, \"#f0f921\"]], \"type\": \"heatmapgl\"}], \"histogram\": [{\"marker\": {\"colorbar\": {\"outlinewidth\": 0, \"ticks\": \"\"}}, \"type\": \"histogram\"}], \"histogram2d\": [{\"colorbar\": {\"outlinewidth\": 0, \"ticks\": \"\"}, \"colorscale\": [[0.0, \"#0d0887\"], [0.1111111111111111, \"#46039f\"], [0.2222222222222222, \"#7201a8\"], [0.3333333333333333, \"#9c179e\"], [0.4444444444444444, \"#bd3786\"], [0.5555555555555556, \"#d8576b\"], [0.6666666666666666, \"#ed7953\"], [0.7777777777777778, \"#fb9f3a\"], [0.8888888888888888, \"#fdca26\"], [1.0, \"#f0f921\"]], \"type\": \"histogram2d\"}], \"histogram2dcontour\": [{\"colorbar\": {\"outlinewidth\": 0, \"ticks\": \"\"}, \"colorscale\": [[0.0, \"#0d0887\"], [0.1111111111111111, \"#46039f\"], [0.2222222222222222, \"#7201a8\"], [0.3333333333333333, \"#9c179e\"], [0.4444444444444444, \"#bd3786\"], [0.5555555555555556, \"#d8576b\"], [0.6666666666666666, \"#ed7953\"], [0.7777777777777778, \"#fb9f3a\"], [0.8888888888888888, \"#fdca26\"], [1.0, \"#f0f921\"]], \"type\": \"histogram2dcontour\"}], \"mesh3d\": [{\"colorbar\": {\"outlinewidth\": 0, \"ticks\": \"\"}, \"type\": \"mesh3d\"}], \"parcoords\": [{\"line\": {\"colorbar\": {\"outlinewidth\": 0, \"ticks\": \"\"}}, \"type\": \"parcoords\"}], \"pie\": [{\"automargin\": true, \"type\": \"pie\"}], \"scatter\": [{\"marker\": {\"colorbar\": {\"outlinewidth\": 0, \"ticks\": \"\"}}, \"type\": \"scatter\"}], \"scatter3d\": [{\"line\": {\"colorbar\": {\"outlinewidth\": 0, \"ticks\": \"\"}}, \"marker\": {\"colorbar\": {\"outlinewidth\": 0, \"ticks\": \"\"}}, \"type\": \"scatter3d\"}], \"scattercarpet\": [{\"marker\": {\"colorbar\": {\"outlinewidth\": 0, \"ticks\": \"\"}}, \"type\": \"scattercarpet\"}], \"scattergeo\": [{\"marker\": {\"colorbar\": {\"outlinewidth\": 0, \"ticks\": \"\"}}, \"type\": \"scattergeo\"}], \"scattergl\": [{\"marker\": {\"colorbar\": {\"outlinewidth\": 0, \"ticks\": \"\"}}, \"type\": \"scattergl\"}], \"scattermapbox\": [{\"marker\": {\"colorbar\": {\"outlinewidth\": 0, \"ticks\": \"\"}}, \"type\": \"scattermapbox\"}], \"scatterpolar\": [{\"marker\": {\"colorbar\": {\"outlinewidth\": 0, \"ticks\": \"\"}}, \"type\": \"scatterpolar\"}], \"scatterpolargl\": [{\"marker\": {\"colorbar\": {\"outlinewidth\": 0, \"ticks\": \"\"}}, \"type\": \"scatterpolargl\"}], \"scatterternary\": [{\"marker\": {\"colorbar\": {\"outlinewidth\": 0, \"ticks\": \"\"}}, \"type\": \"scatterternary\"}], \"surface\": [{\"colorbar\": {\"outlinewidth\": 0, \"ticks\": \"\"}, \"colorscale\": [[0.0, \"#0d0887\"], [0.1111111111111111, \"#46039f\"], [0.2222222222222222, \"#7201a8\"], [0.3333333333333333, \"#9c179e\"], [0.4444444444444444, \"#bd3786\"], [0.5555555555555556, \"#d8576b\"], [0.6666666666666666, \"#ed7953\"], [0.7777777777777778, \"#fb9f3a\"], [0.8888888888888888, \"#fdca26\"], [1.0, \"#f0f921\"]], \"type\": \"surface\"}], \"table\": [{\"cells\": {\"fill\": {\"color\": \"#EBF0F8\"}, \"line\": {\"color\": \"white\"}}, \"header\": {\"fill\": {\"color\": \"#C8D4E3\"}, \"line\": {\"color\": \"white\"}}, \"type\": \"table\"}]}, \"layout\": {\"annotationdefaults\": {\"arrowcolor\": \"#2a3f5f\", \"arrowhead\": 0, \"arrowwidth\": 1}, \"coloraxis\": {\"colorbar\": {\"outlinewidth\": 0, \"ticks\": \"\"}}, \"colorscale\": {\"diverging\": [[0, \"#8e0152\"], [0.1, \"#c51b7d\"], [0.2, \"#de77ae\"], [0.3, \"#f1b6da\"], [0.4, \"#fde0ef\"], [0.5, \"#f7f7f7\"], [0.6, \"#e6f5d0\"], [0.7, \"#b8e186\"], [0.8, \"#7fbc41\"], [0.9, \"#4d9221\"], [1, \"#276419\"]], \"sequential\": [[0.0, \"#0d0887\"], [0.1111111111111111, \"#46039f\"], [0.2222222222222222, \"#7201a8\"], [0.3333333333333333, \"#9c179e\"], [0.4444444444444444, \"#bd3786\"], [0.5555555555555556, \"#d8576b\"], [0.6666666666666666, \"#ed7953\"], [0.7777777777777778, \"#fb9f3a\"], [0.8888888888888888, \"#fdca26\"], [1.0, \"#f0f921\"]], \"sequentialminus\": [[0.0, \"#0d0887\"], [0.1111111111111111, \"#46039f\"], [0.2222222222222222, \"#7201a8\"], [0.3333333333333333, \"#9c179e\"], [0.4444444444444444, \"#bd3786\"], [0.5555555555555556, \"#d8576b\"], [0.6666666666666666, \"#ed7953\"], [0.7777777777777778, \"#fb9f3a\"], [0.8888888888888888, \"#fdca26\"], [1.0, \"#f0f921\"]]}, \"colorway\": [\"#636efa\", \"#EF553B\", \"#00cc96\", \"#ab63fa\", \"#FFA15A\", \"#19d3f3\", \"#FF6692\", \"#B6E880\", \"#FF97FF\", \"#FECB52\"], \"font\": {\"color\": \"#2a3f5f\"}, \"geo\": {\"bgcolor\": \"white\", \"lakecolor\": \"white\", \"landcolor\": \"#E5ECF6\", \"showlakes\": true, \"showland\": true, \"subunitcolor\": \"white\"}, \"hoverlabel\": {\"align\": \"left\"}, \"hovermode\": \"closest\", \"mapbox\": {\"style\": \"light\"}, \"paper_bgcolor\": \"white\", \"plot_bgcolor\": \"#E5ECF6\", \"polar\": {\"angularaxis\": {\"gridcolor\": \"white\", \"linecolor\": \"white\", \"ticks\": \"\"}, \"bgcolor\": \"#E5ECF6\", \"radialaxis\": {\"gridcolor\": \"white\", \"linecolor\": \"white\", \"ticks\": \"\"}}, \"scene\": {\"xaxis\": {\"backgroundcolor\": \"#E5ECF6\", \"gridcolor\": \"white\", \"gridwidth\": 2, \"linecolor\": \"white\", \"showbackground\": true, \"ticks\": \"\", \"zerolinecolor\": \"white\"}, \"yaxis\": {\"backgroundcolor\": \"#E5ECF6\", \"gridcolor\": \"white\", \"gridwidth\": 2, \"linecolor\": \"white\", \"showbackground\": true, \"ticks\": \"\", \"zerolinecolor\": \"white\"}, \"zaxis\": {\"backgroundcolor\": \"#E5ECF6\", \"gridcolor\": \"white\", \"gridwidth\": 2, \"linecolor\": \"white\", \"showbackground\": true, \"ticks\": \"\", \"zerolinecolor\": \"white\"}}, \"shapedefaults\": {\"line\": {\"color\": \"#2a3f5f\"}}, \"ternary\": {\"aaxis\": {\"gridcolor\": \"white\", \"linecolor\": \"white\", \"ticks\": \"\"}, \"baxis\": {\"gridcolor\": \"white\", \"linecolor\": \"white\", \"ticks\": \"\"}, \"bgcolor\": \"#E5ECF6\", \"caxis\": {\"gridcolor\": \"white\", \"linecolor\": \"white\", \"ticks\": \"\"}}, \"title\": {\"x\": 0.05}, \"xaxis\": {\"automargin\": true, \"gridcolor\": \"white\", \"linecolor\": \"white\", \"ticks\": \"\", \"title\": {\"standoff\": 15}, \"zerolinecolor\": \"white\", \"zerolinewidth\": 2}, \"yaxis\": {\"automargin\": true, \"gridcolor\": \"white\", \"linecolor\": \"white\", \"ticks\": \"\", \"title\": {\"standoff\": 15}, \"zerolinecolor\": \"white\", \"zerolinewidth\": 2}}}},\n",
              "                        {\"responsive\": true}\n",
              "                    ).then(function(){\n",
              "                            \n",
              "var gd = document.getElementById('79643b24-4d2a-469f-af0f-73e7b4b30eda');\n",
              "var x = new MutationObserver(function (mutations, observer) {{\n",
              "        var display = window.getComputedStyle(gd).display;\n",
              "        if (!display || display === 'none') {{\n",
              "            console.log([gd, 'removed!']);\n",
              "            Plotly.purge(gd);\n",
              "            observer.disconnect();\n",
              "        }}\n",
              "}});\n",
              "\n",
              "// Listen for the removal of the full notebook cells\n",
              "var notebookContainer = gd.closest('#notebook-container');\n",
              "if (notebookContainer) {{\n",
              "    x.observe(notebookContainer, {childList: true});\n",
              "}}\n",
              "\n",
              "// Listen for the clearing of the current output cell\n",
              "var outputEl = gd.closest('.output');\n",
              "if (outputEl) {{\n",
              "    x.observe(outputEl, {childList: true});\n",
              "}}\n",
              "\n",
              "                        })\n",
              "                };\n",
              "                \n",
              "            </script>\n",
              "        </div>\n",
              "</body>\n",
              "</html>"
            ]
          },
          "metadata": {
            "tags": []
          }
        }
      ]
    },
    {
      "cell_type": "markdown",
      "metadata": {
        "id": "uam8OZ0xPEO1"
      },
      "source": [
        "## Time Series Forecasting the Length of Stay"
      ]
    },
    {
      "cell_type": "code",
      "metadata": {
        "id": "5la8ysLbPJ9h"
      },
      "source": [
        "from datetime import datetime\r\n",
        "import numpy as np             #for numerical computations like log,exp,sqrt etc\r\n",
        "import pandas as pd            #for reading & storing data, pre-processing\r\n",
        "import matplotlib.pylab as plt #for visualization\r\n",
        "#for making sure matplotlib plots are generated in Jupyter notebook itself\r\n",
        "%matplotlib inline             \r\n",
        "from statsmodels.tsa.stattools import adfuller\r\n",
        "from statsmodels.tsa.stattools import acf, pacf\r\n",
        "from statsmodels.tsa.seasonal import seasonal_decompose\r\n",
        "from statsmodels.tsa.arima_model import ARIMA\r\n",
        "from matplotlib.pylab import rcParams\r\n",
        "rcParams['figure.figsize'] = 18, 9"
      ],
      "execution_count": null,
      "outputs": []
    },
    {
      "cell_type": "code",
      "metadata": {
        "colab": {
          "base_uri": "https://localhost:8080/",
          "height": 204
        },
        "id": "6cMtZH0yREY3",
        "outputId": "ddfa9013-fec9-4562-8d90-8e85f4d7ec7f"
      },
      "source": [
        "df1 = df[['Admission date and time','LOS']]\r\n",
        "df1['Admission date and time'] = df1['Admission date and time'].astype('string') \r\n",
        "df1.head()"
      ],
      "execution_count": null,
      "outputs": [
        {
          "output_type": "execute_result",
          "data": {
            "text/html": [
              "<div>\n",
              "<style scoped>\n",
              "    .dataframe tbody tr th:only-of-type {\n",
              "        vertical-align: middle;\n",
              "    }\n",
              "\n",
              "    .dataframe tbody tr th {\n",
              "        vertical-align: top;\n",
              "    }\n",
              "\n",
              "    .dataframe thead th {\n",
              "        text-align: right;\n",
              "    }\n",
              "</style>\n",
              "<table border=\"1\" class=\"dataframe\">\n",
              "  <thead>\n",
              "    <tr style=\"text-align: right;\">\n",
              "      <th></th>\n",
              "      <th>Admission date and time</th>\n",
              "      <th>LOS</th>\n",
              "    </tr>\n",
              "  </thead>\n",
              "  <tbody>\n",
              "    <tr>\n",
              "      <th>0</th>\n",
              "      <td>2012-12-05 01:31:00</td>\n",
              "      <td>27</td>\n",
              "    </tr>\n",
              "    <tr>\n",
              "      <th>1</th>\n",
              "      <td>2012-12-31 17:01:00</td>\n",
              "      <td>1</td>\n",
              "    </tr>\n",
              "    <tr>\n",
              "      <th>2</th>\n",
              "      <td>2012-12-31 14:29:00</td>\n",
              "      <td>1</td>\n",
              "    </tr>\n",
              "    <tr>\n",
              "      <th>3</th>\n",
              "      <td>2012-12-31 22:35:00</td>\n",
              "      <td>1</td>\n",
              "    </tr>\n",
              "    <tr>\n",
              "      <th>4</th>\n",
              "      <td>2012-12-31 22:31:00</td>\n",
              "      <td>1</td>\n",
              "    </tr>\n",
              "  </tbody>\n",
              "</table>\n",
              "</div>"
            ],
            "text/plain": [
              "  Admission date and time  LOS\n",
              "0     2012-12-05 01:31:00   27\n",
              "1     2012-12-31 17:01:00    1\n",
              "2     2012-12-31 14:29:00    1\n",
              "3     2012-12-31 22:35:00    1\n",
              "4     2012-12-31 22:31:00    1"
            ]
          },
          "metadata": {
            "tags": []
          },
          "execution_count": 61
        }
      ]
    },
    {
      "cell_type": "code",
      "metadata": {
        "colab": {
          "base_uri": "https://localhost:8080/",
          "height": 497
        },
        "id": "k9mMxNcFPPz1",
        "outputId": "9a18f54a-45c6-49d3-e314-d18e27db8c41"
      },
      "source": [
        "# Plot for FillPercentage value vs Date\r\n",
        "plt.figure(figsize=(16,8))\r\n",
        "df1['LOS'].plot()\r\n",
        "plt.xlabel('Admission Date')\r\n",
        "plt.ylabel('POS')\r\n",
        "plt.show()"
      ],
      "execution_count": null,
      "outputs": [
        {
          "output_type": "display_data",
          "data": {
            "image/png": "[encoded data removed]",
            "text/plain": [
              "<Figure size 1152x576 with 1 Axes>"
            ]
          },
          "metadata": {
            "tags": [],
            "needs_background": "light"
          }
        }
      ]
    },
    {
      "cell_type": "code",
      "metadata": {
        "colab": {
          "base_uri": "https://localhost:8080/"
        },
        "id": "Kh_gh8XzPa-R",
        "outputId": "da9a7bcc-5477-4c88-fc38-6bf0a660f312"
      },
      "source": [
        "#Perform Augmented Dickey–Fuller test:\r\n",
        "print('Results of Dickey Fuller Test:')\r\n",
        "dftest = adfuller(df1['LOS'], autolag='AIC')\r\n",
        "\r\n",
        "dfoutput = pd.Series(dftest[0:4], index=['Test Statistic','p-value','#Lags Used','Number of Observations Used'])\r\n",
        "for key,value in dftest[4].items():\r\n",
        "    dfoutput['Critical Value (%s)'%key] = value\r\n",
        "    \r\n",
        "print(dfoutput)"
      ],
      "execution_count": null,
      "outputs": [
        {
          "output_type": "stream",
          "text": [
            "Results of Dickey Fuller Test:\n",
            "Test Statistic                   -60.885853\n",
            "p-value                            0.000000\n",
            "#Lags Used                         2.000000\n",
            "Number of Observations Used    12408.000000\n",
            "Critical Value (1%)               -3.430877\n",
            "Critical Value (5%)               -2.861773\n",
            "Critical Value (10%)              -2.566894\n",
            "dtype: float64\n"
          ],
          "name": "stdout"
        }
      ]
    },
    {
      "cell_type": "code",
      "metadata": {
        "colab": {
          "base_uri": "https://localhost:8080/",
          "height": 1000
        },
        "id": "r-Wkrr1CPmy8",
        "outputId": "2935ff62-b21c-4772-db48-54442f4f5751"
      },
      "source": [
        "#ACF and PACF plots\r\n",
        "\r\n",
        "lag_acf = acf(df1['LOS'], nlags=20)\r\n",
        "lag_pacf = pacf(df1['LOS'], nlags=20, method='ols')\r\n",
        "\r\n",
        "#Plot ACF:\r\n",
        "plt.figure(figsize =(18,9))\r\n",
        "plt.subplot(121)\r\n",
        "plt.plot(lag_acf)\r\n",
        "plt.axhline(y=0, linestyle='--', color='gray')\r\n",
        "plt.axhline(y=-1.96/np.sqrt(len(df)), linestyle='--', color='gray')\r\n",
        "plt.axhline(y=1.96/np.sqrt(len(df)), linestyle='--', color='gray')\r\n",
        "plt.title('Autocorrelation Function')            \r\n",
        "\r\n",
        "#Plot PACF\r\n",
        "plt.figure(figsize =(18,9))\r\n",
        "plt.subplot(122)\r\n",
        "plt.plot(lag_pacf)\r\n",
        "plt.axhline(y=0, linestyle='--', color='gray')\r\n",
        "plt.axhline(y=-1.96/np.sqrt(len(df)), linestyle='--', color='gray')\r\n",
        "plt.axhline(y=1.96/np.sqrt(len(df)), linestyle='--', color='gray')\r\n",
        "plt.title('Partial Autocorrelation Function')\r\n",
        "            \r\n",
        "plt.tight_layout() "
      ],
      "execution_count": null,
      "outputs": [
        {
          "output_type": "display_data",
          "data": {
            "image/png": "[encoded data removed]",
            "text/plain": [
              "<Figure size 1296x648 with 1 Axes>"
            ]
          },
          "metadata": {
            "tags": [],
            "needs_background": "light"
          }
        },
        {
          "output_type": "display_data",
          "data": {
            "image/png": "[encoded data removed]",
            "text/plain": [
              "<Figure size 1296x648 with 1 Axes>"
            ]
          },
          "metadata": {
            "tags": [],
            "needs_background": "light"
          }
        }
      ]
    },
    {
      "cell_type": "code",
      "metadata": {
        "colab": {
          "base_uri": "https://localhost:8080/",
          "height": 570
        },
        "id": "hik9oZRPTFvn",
        "outputId": "3b8fb57d-577b-4258-c803-28d93ef457e6"
      },
      "source": [
        "# AR+I+MA = ARIMA model\r\n",
        "model = ARIMA(df1['LOS'], order=(6,0,5))\r\n",
        "results_ARIMA = model.fit(disp=-1)\r\n",
        "plt.plot(df1['LOS'])\r\n",
        "plt.plot(results_ARIMA.fittedvalues, color='red')\r\n",
        "plt.title('RSS: %.4f'%sum((results_ARIMA.fittedvalues - df1['LOS'])))\r\n",
        "print('Plotting ARIMA model')"
      ],
      "execution_count": null,
      "outputs": [
        {
          "output_type": "stream",
          "text": [
            "Plotting ARIMA model\n"
          ],
          "name": "stdout"
        },
        {
          "output_type": "display_data",
          "data": {
            "image/png": "[encoded data removed]",
            "text/plain": [
              "<Figure size 1296x648 with 1 Axes>"
            ]
          },
          "metadata": {
            "tags": [],
            "needs_background": "light"
          }
        }
      ]
    },
    {
      "cell_type": "code",
      "metadata": {
        "colab": {
          "base_uri": "https://localhost:8080/"
        },
        "id": "9cv2uLq2UXFD",
        "outputId": "36a3a613-901c-4c5e-d890-1ea4c584f3e9"
      },
      "source": [
        "# ARIMA Forecated results\r\n",
        "predictions_ARIMA_diff = pd.Series(results_ARIMA.fittedvalues, copy=True)\r\n",
        "print(predictions_ARIMA_diff.head())"
      ],
      "execution_count": null,
      "outputs": [
        {
          "output_type": "stream",
          "text": [
            "0    6.356189\n",
            "1    6.476119\n",
            "2    6.684708\n",
            "3    7.069466\n",
            "4    6.111308\n",
            "dtype: float64\n"
          ],
          "name": "stdout"
        }
      ]
    },
    {
      "cell_type": "markdown",
      "metadata": {
        "id": "Ybl2GCJDUz-i"
      },
      "source": [
        "# Model Evaluation"
      ]
    },
    {
      "cell_type": "code",
      "metadata": {
        "colab": {
          "base_uri": "https://localhost:8080/"
        },
        "id": "B9GfWexjUaS5",
        "outputId": "ce359ebe-a041-419a-e483-4cfe44dd77b2"
      },
      "source": [
        "# Evaluation metrics\r\n",
        "def forecast_accuracy(forecast, actual):\r\n",
        "    mape = np.mean(np.abs(forecast - actual)/np.abs(actual))  # MAPE\r\n",
        "    me = np.mean(forecast - actual)             # ME\r\n",
        "    mae = np.mean(np.abs(forecast - actual))    # MAE\r\n",
        "    mpe = np.mean((forecast - actual)/actual)   # MPE\r\n",
        "    rmse = np.mean((forecast - actual)**2)**.5  # RMSE\r\n",
        "    corr = np.corrcoef(forecast, actual)[0,1]   # corr\r\n",
        "    mins = np.amin(np.hstack([forecast[:,None], \r\n",
        "                              actual[:,None]]), axis=1)\r\n",
        "    maxs = np.amax(np.hstack([forecast[:,None], \r\n",
        "                              actual[:,None]]), axis=1)\r\n",
        "    minmax = 1 - np.mean(mins/maxs)             # minmax\r\n",
        "    # acf1 = acf(fc-test)[1]                      # ACF1\r\n",
        "    return({'mape':mape, 'me':me, 'mae': mae, \r\n",
        "            'mpe': mpe, 'rmse':rmse})\r\n",
        "\r\n",
        "forecast_accuracy(df1['LOS'], predictions_ARIMA_diff)"
      ],
      "execution_count": null,
      "outputs": [
        {
          "output_type": "execute_result",
          "data": {
            "text/plain": [
              "{'mae': 5.547089818600649,\n",
              " 'mape': 0.8721211023613349,\n",
              " 'me': -0.00022557985581285396,\n",
              " 'mpe': 0.0035272703603491757,\n",
              " 'rmse': 14.298378185692824}"
            ]
          },
          "metadata": {
            "tags": []
          },
          "execution_count": 87
        }
      ]
    },
    {
      "cell_type": "code",
      "metadata": {
        "colab": {
          "base_uri": "https://localhost:8080/",
          "height": 1000
        },
        "id": "UMwsVfUaU47f",
        "outputId": "74a60ddd-68b7-42cc-8194-97a465c449f1"
      },
      "source": [
        "#And we want to forecast for additional 7000 data points or 1 month.\r\n",
        "fc = results_ARIMA.predict(start=1, end=17000, dynamic=False)\r\n",
        "results_ARIMA.plot_predict(1,25000) "
      ],
      "execution_count": null,
      "outputs": [
        {
          "output_type": "execute_result",
          "data": {
            "image/png": "[encoded data removed]",
            "text/plain": [
              "<Figure size 1296x648 with 1 Axes>"
            ]
          },
          "metadata": {
            "tags": []
          },
          "execution_count": 88
        },
        {
          "output_type": "display_data",
          "data": {
            "image/png": "[encoded data removed]",
            "text/plain": [
              "<Figure size 1296x648 with 1 Axes>"
            ]
          },
          "metadata": {
            "tags": [],
            "needs_background": "light"
          }
        }
      ]
    },
    {
      "cell_type": "markdown",
      "metadata": {
        "id": "uifZuSqLWhrm"
      },
      "source": [
        "# LSTM Forecasting"
      ]
    },
    {
      "cell_type": "code",
      "metadata": {
        "colab": {
          "base_uri": "https://localhost:8080/"
        },
        "id": "Hu01OafRW4U_",
        "outputId": "61dbdabc-8cfc-46b1-da0b-df202eabf134"
      },
      "source": [
        "los_data = df1['LOS'].values\r\n",
        "los_data = los_data.reshape((-1,1))\r\n",
        "\r\n",
        "split_percent = 0.80 #split data as 80% training set and 20% test set\r\n",
        "split = int(split_percent*len(los_data))\r\n",
        "\r\n",
        "los_train = los_data[:split]\r\n",
        "los_test = los_data[split:]\r\n",
        "\r\n",
        "date_train = df1['Admission date and time'][:split]\r\n",
        "date_test = df1['Admission date and time'][split:]\r\n",
        "\r\n",
        "print(len(los_train))\r\n",
        "print(len(los_test))"
      ],
      "execution_count": null,
      "outputs": [
        {
          "output_type": "stream",
          "text": [
            "9928\n",
            "2483\n"
          ],
          "name": "stdout"
        }
      ]
    },
    {
      "cell_type": "code",
      "metadata": {
        "id": "lqaxczNIW552"
      },
      "source": [
        "#import librarries required for LSTM modeling\r\n",
        "import pandas as pd\r\n",
        "import numpy as np\r\n",
        "import keras\r\n",
        "import tensorflow as tf\r\n",
        "import matplotlib.pyplot as plt\r\n",
        "from keras.preprocessing.sequence import TimeseriesGenerator\r\n",
        "\r\n",
        "#converting the data from sequence to supervised data to train LSTM model\r\n",
        "look_back = 15\r\n",
        "\r\n",
        "train_generator = TimeseriesGenerator(los_train, los_train, length=look_back, batch_size=20)     \r\n",
        "test_generator = TimeseriesGenerator(los_test, los_test, length=look_back, batch_size=1)"
      ],
      "execution_count": null,
      "outputs": []
    },
    {
      "cell_type": "code",
      "metadata": {
        "colab": {
          "base_uri": "https://localhost:8080/"
        },
        "id": "qyqSKtT-W_-Z",
        "outputId": "5237af53-e5f2-4e9c-e788-7716fe741600"
      },
      "source": [
        "#import keras models and layers for LSTM\r\n",
        "from keras.models import Sequential\r\n",
        "from keras.layers import LSTM, Dense\r\n",
        "\r\n",
        "model = Sequential()\r\n",
        "model.add(\r\n",
        "    LSTM(10,\r\n",
        "        activation='relu',\r\n",
        "        input_shape=(look_back,1))\r\n",
        ")\r\n",
        "model.add(Dense(1))\r\n",
        "model.compile(optimizer='adam', loss='mse') #model compilation\r\n",
        "\r\n",
        "num_epochs = 20\r\n",
        "m = model.fit_generator(train_generator, epochs=num_epochs, verbose=1) #model training"
      ],
      "execution_count": null,
      "outputs": [
        {
          "output_type": "stream",
          "text": [
            "Epoch 1/20\n",
            "496/496 [==============================] - 4s 5ms/step - loss: 195.1213\n",
            "Epoch 2/20\n",
            "496/496 [==============================] - 3s 6ms/step - loss: 179.2789\n",
            "Epoch 3/20\n",
            "496/496 [==============================] - 3s 5ms/step - loss: 324.9279\n",
            "Epoch 4/20\n",
            "496/496 [==============================] - 3s 6ms/step - loss: 209.4511\n",
            "Epoch 5/20\n",
            "496/496 [==============================] - 3s 6ms/step - loss: 164.8599\n",
            "Epoch 6/20\n",
            "496/496 [==============================] - 3s 6ms/step - loss: 208.0182\n",
            "Epoch 7/20\n",
            "496/496 [==============================] - 3s 6ms/step - loss: 192.1570\n",
            "Epoch 8/20\n",
            "496/496 [==============================] - 3s 6ms/step - loss: 316.3565\n",
            "Epoch 9/20\n",
            "496/496 [==============================] - 3s 6ms/step - loss: 205.2810\n",
            "Epoch 10/20\n",
            "496/496 [==============================] - 3s 5ms/step - loss: 167.8145\n",
            "Epoch 11/20\n",
            "496/496 [==============================] - 3s 6ms/step - loss: 231.7371\n",
            "Epoch 12/20\n",
            "496/496 [==============================] - 3s 6ms/step - loss: 352.9397\n",
            "Epoch 13/20\n",
            "496/496 [==============================] - 3s 6ms/step - loss: 180.7276\n",
            "Epoch 14/20\n",
            "496/496 [==============================] - 3s 5ms/step - loss: 197.4148\n",
            "Epoch 15/20\n",
            "496/496 [==============================] - 3s 6ms/step - loss: 259.9463\n",
            "Epoch 16/20\n",
            "496/496 [==============================] - 3s 5ms/step - loss: 197.1131\n",
            "Epoch 17/20\n",
            "496/496 [==============================] - 3s 6ms/step - loss: 218.8720\n",
            "Epoch 18/20\n",
            "496/496 [==============================] - 3s 5ms/step - loss: 201.3147\n",
            "Epoch 19/20\n",
            "496/496 [==============================] - 3s 5ms/step - loss: 241.7289\n",
            "Epoch 20/20\n",
            "496/496 [==============================] - 3s 5ms/step - loss: 169.8176\n"
          ],
          "name": "stdout"
        }
      ]
    },
    {
      "cell_type": "code",
      "metadata": {
        "id": "fWG05pTvYZXK"
      },
      "source": [
        "import plotly.graph_objects as go #library for visualization\r\n",
        "\r\n",
        "prediction = model.predict_generator(test_generator) #forecast/predict for test data\r\n"
      ],
      "execution_count": null,
      "outputs": []
    },
    {
      "cell_type": "code",
      "metadata": {
        "id": "Lqgrv1HtYmhn"
      },
      "source": [
        "# convert an array of values into a dataset matrix\r\n",
        "def create_dataset(dataset, look_back=100):\r\n",
        "    dataX, dataY = [], []\r\n",
        "    for i in range(len(dataset)-look_back):\r\n",
        "        a = dataset[i:(i+look_back)]\r\n",
        "        dataX.append(a)\r\n",
        "        dataY.append(dataset[i + look_back])\r\n",
        "    return np.array(dataX), np.array(dataY)"
      ],
      "execution_count": null,
      "outputs": []
    },
    {
      "cell_type": "code",
      "metadata": {
        "id": "bZoFJuVYaATs"
      },
      "source": [
        "testD = create_dataset(los_test, 100)"
      ],
      "execution_count": null,
      "outputs": []
    },
    {
      "cell_type": "code",
      "metadata": {
        "colab": {
          "base_uri": "https://localhost:8080/"
        },
        "id": "LKw-LcyraCjI",
        "outputId": "73c0b0f7-b34c-4ffb-8840-5e807466fc18"
      },
      "source": [
        "# Evaluation metrics\r\n",
        "def forecast_accuracy(forecast, actual):\r\n",
        "    mape = np.mean(np.abs(forecast - actual)/np.abs(actual))  # MAPE\r\n",
        "    me = np.mean(forecast - actual)             # ME\r\n",
        "    mae = np.mean(np.abs(forecast - actual))    # MAE\r\n",
        "    mpe = np.mean((forecast - actual)/actual)   # MPE\r\n",
        "    rmse = np.mean((forecast - actual)**2)**.5  # RMSE\r\n",
        "    # # corr = np.corrcoef(forecast, actual)[0,1]   # corr\r\n",
        "    # mins = np.amin(np.hstack([forecast[:,None], \r\n",
        "    #                           actual[:,None]]), axis=1)\r\n",
        "    # maxs = np.amax(np.hstack([forecast[:,None], \r\n",
        "    #                           actual[:,None]]), axis=1)\r\n",
        "    return({'mape':mape, 'me':me, 'mae': mae, \r\n",
        "            'mpe': mpe, 'rmse':rmse})\r\n",
        "\r\n",
        "forecast_accuracy(testD[1], prediction)"
      ],
      "execution_count": null,
      "outputs": [
        {
          "output_type": "execute_result",
          "data": {
            "text/plain": [
              "{'mae': 5.431802406377229,\n",
              " 'mape': 0.8608804964542932,\n",
              " 'me': -0.1337390324524466,\n",
              " 'mpe': -0.006069165919836318,\n",
              " 'rmse': 13.740439915160286}"
            ]
          },
          "metadata": {
            "tags": []
          },
          "execution_count": 111
        }
      ]
    }
  ]
}